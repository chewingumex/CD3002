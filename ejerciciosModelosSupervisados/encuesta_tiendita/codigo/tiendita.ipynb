{
 "cells": [
  {
   "cell_type": "code",
   "execution_count": 1,
   "id": "8b1aab05-c5ad-4cfa-8aae-75736be79a70",
   "metadata": {
    "tags": []
   },
   "outputs": [],
   "source": [
    "import pandas as pd\n",
    "import numpy as np"
   ]
  },
  {
   "cell_type": "code",
   "execution_count": 2,
   "id": "eaf67325-187e-4e51-a5e7-b8b2f9c039dd",
   "metadata": {
    "tags": []
   },
   "outputs": [
    {
     "name": "stderr",
     "output_type": "stream",
     "text": [
      "/var/folders/b4/4d2z59pj4956dbm0np76tt280000gn/T/ipykernel_84237/1029788347.py:1: DtypeWarning: Columns (49,54,56,58,69,71,76,78,81,83,86,88,95,105,106,107,108,112,130,135,137,140,146,163) have mixed types. Specify dtype option on import or set low_memory=False.\n",
      "  df = pd.read_csv('./../datos/micro_retailer_mit_lift_lab(2).csv')\n"
     ]
    }
   ],
   "source": [
    "df = pd.read_csv('./../datos/micro_retailer_mit_lift_lab(2).csv')"
   ]
  },
  {
   "cell_type": "code",
   "execution_count": 3,
   "id": "c4690966-fc88-4275-8103-555c09c8a59d",
   "metadata": {
    "tags": []
   },
   "outputs": [
    {
     "data": {
      "text/plain": [
       "(4248, 165)"
      ]
     },
     "execution_count": 3,
     "metadata": {},
     "output_type": "execute_result"
    }
   ],
   "source": [
    "df.shape"
   ]
  },
  {
   "cell_type": "code",
   "execution_count": 4,
   "id": "1ba303ae-a5ca-4d61-845c-febdd1bff997",
   "metadata": {
    "tags": []
   },
   "outputs": [],
   "source": [
    "drops=[]\n",
    "\n",
    "for x in df.columns:\n",
    "    \n",
    "    if sum(df[x].isna()) > 4000:\n",
    "        \n",
    "        drops.append(x)"
   ]
  },
  {
   "cell_type": "code",
   "execution_count": 5,
   "id": "f721fc5e-c054-4625-94aa-381bfa012d25",
   "metadata": {
    "tags": []
   },
   "outputs": [],
   "source": [
    "for x in df.columns:\n",
    "    \n",
    "    if df[x].dtype == 'O':\n",
    "        \n",
    "        if len(df[x].unique()) > 805:\n",
    "            \n",
    "            if x not in drops:\n",
    "            \n",
    "                drops.append(x)"
   ]
  },
  {
   "cell_type": "code",
   "execution_count": 6,
   "id": "219d7abc-726b-4dc7-ba16-25f0c9f5b92c",
   "metadata": {
    "tags": []
   },
   "outputs": [],
   "source": [
    "drops.extend( \n",
    "    ['created_at',\n",
    "     'updated_at',\n",
    "     'created_by',\n",
    "     'updated_by',\n",
    "     'system_created_at',\n",
    "     'system_updated_at',\n",
    "     'version',\n",
    "     'hola_somos_estudiantes_del_tec_de_monterrey_estamos_realiz',\n",
    "     'le_comento_que_toda_esta_informacin_es_confidencial',\n",
    "     '318_shopkeeper_name',\n",
    "     '319_shopkeepers_last_name',\n",
    "     '236_whatsapp',\n",
    "     '235_email',\n",
    "     '228_store_name']\n",
    ")\n",
    "\n",
    "drops = list(set(drops))"
   ]
  },
  {
   "cell_type": "code",
   "execution_count": 7,
   "id": "31130b20-f487-4601-9ba3-90be1ce443e0",
   "metadata": {
    "tags": []
   },
   "outputs": [],
   "source": [
    "df = df.drop(drops, axis=1)"
   ]
  },
  {
   "cell_type": "code",
   "execution_count": null,
   "id": "7395364b-b538-469e-bef3-1086aee8d761",
   "metadata": {
    "tags": []
   },
   "outputs": [],
   "source": [
    "# list comprehension\n",
    "\n",
    "[(str(x), str(len(df[x].unique())), str(df[x].dtype)) for x in df.columns]"
   ]
  },
  {
   "cell_type": "code",
   "execution_count": 9,
   "id": "c506c08e-1e06-49ab-8918-a36e1fccb025",
   "metadata": {
    "tags": []
   },
   "outputs": [
    {
     "data": {
      "text/plain": [
       "(4248, 91)"
      ]
     },
     "execution_count": 9,
     "metadata": {},
     "output_type": "execute_result"
    }
   ],
   "source": [
    "df.shape"
   ]
  },
  {
   "cell_type": "code",
   "execution_count": null,
   "id": "93f76d19-a201-4d71-852b-5aee6c831611",
   "metadata": {
    "tags": []
   },
   "outputs": [],
   "source": [
    "!pwd"
   ]
  }
 ],
 "metadata": {
  "kernelspec": {
   "display_name": "Python 3 (ipykernel)",
   "language": "python",
   "name": "python3"
  },
  "language_info": {
   "codemirror_mode": {
    "name": "ipython",
    "version": 3
   },
   "file_extension": ".py",
   "mimetype": "text/x-python",
   "name": "python",
   "nbconvert_exporter": "python",
   "pygments_lexer": "ipython3",
   "version": "3.11.2"
  }
 },
 "nbformat": 4,
 "nbformat_minor": 5
}
