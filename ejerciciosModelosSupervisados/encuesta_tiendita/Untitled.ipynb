{
 "cells": [
  {
   "cell_type": "code",
   "execution_count": 40,
   "id": "c3909dd3-0366-4dfc-ac4b-0e2e1cf0a7f9",
   "metadata": {
    "tags": []
   },
   "outputs": [],
   "source": [
    "import tensorflow as tf"
   ]
  },
  {
   "cell_type": "code",
   "execution_count": 41,
   "id": "c77f5c91-2e1b-46bd-b5ed-46650944b6a6",
   "metadata": {
    "tags": []
   },
   "outputs": [],
   "source": [
    "(x_train, y_train),(x_test, y_test) = tf.keras.datasets.boston_housing.load_data()"
   ]
  },
  {
   "cell_type": "code",
   "execution_count": 43,
   "id": "0b6363df-8016-4a49-b3d8-f7d802ee9523",
   "metadata": {
    "tags": []
   },
   "outputs": [
    {
     "data": {
      "text/plain": [
       "(404, 13)"
      ]
     },
     "execution_count": 43,
     "metadata": {},
     "output_type": "execute_result"
    }
   ],
   "source": [
    "x_train.shape"
   ]
  },
  {
   "cell_type": "code",
   "execution_count": 44,
   "id": "9ed5db6a-4bf4-4ed6-8983-afb3f3f30569",
   "metadata": {
    "tags": []
   },
   "outputs": [
    {
     "data": {
      "text/plain": [
       "(404,)"
      ]
     },
     "execution_count": 44,
     "metadata": {},
     "output_type": "execute_result"
    }
   ],
   "source": [
    "y_train.shape"
   ]
  },
  {
   "cell_type": "code",
   "execution_count": 96,
   "id": "9668a49d-cbba-499f-864f-ecf1ba8164cc",
   "metadata": {
    "tags": []
   },
   "outputs": [],
   "source": [
    "one = tf.keras.layers.Dense(units = 2, activation = 'relu', activity_regularizer = 'l2')"
   ]
  },
  {
   "cell_type": "code",
   "execution_count": 88,
   "id": "f00a0d43-7822-4261-8bf3-65ea77ff8854",
   "metadata": {
    "tags": []
   },
   "outputs": [],
   "source": [
    "two = tf.keras.layers.Dense(units = 1)"
   ]
  },
  {
   "cell_type": "code",
   "execution_count": null,
   "id": "3d041b9a-c26d-42b0-ac5d-0575b6a6d5fb",
   "metadata": {},
   "outputs": [],
   "source": [
    "tf.keras.layers.Dense(units = 5, activation = 'softmax')"
   ]
  },
  {
   "cell_type": "code",
   "execution_count": 49,
   "id": "7ca07af9-b9dd-4bd6-9c56-b9b1c6b31001",
   "metadata": {
    "tags": []
   },
   "outputs": [],
   "source": [
    "tensor1 = tf.convert_to_tensor(x_train)"
   ]
  },
  {
   "cell_type": "code",
   "execution_count": 67,
   "id": "3d33892c-1826-4292-b4f1-0f275dd2e7e5",
   "metadata": {
    "tags": []
   },
   "outputs": [],
   "source": [
    "one()"
   ]
  },
  {
   "cell_type": "code",
   "execution_count": 68,
   "id": "ed0d09d3-0eff-42a5-9aa3-347ded5dc047",
   "metadata": {
    "tags": []
   },
   "outputs": [
    {
     "data": {
      "text/plain": [
       "<tf.Tensor: shape=(404, 4500), dtype=float32, numpy=\n",
       "array([[21.376291 , 16.650915 , -1.7047734, ..., 16.8365   ,  8.500513 ,\n",
       "        16.328053 ],\n",
       "       [19.965298 , 18.15372  , -1.5280828, ..., 11.226003 , 11.483271 ,\n",
       "        17.846867 ],\n",
       "       [29.386925 , 15.347513 ,  2.807643 , ..., 20.41272  , 16.928661 ,\n",
       "        17.87529  ],\n",
       "       ...,\n",
       "       [19.296556 , 16.43438  , -1.9888124, ..., 12.414332 , 10.169075 ,\n",
       "        15.974318 ],\n",
       "       [18.763464 , 10.041808 ,  2.0289407, ..., 14.670088 ,  8.073566 ,\n",
       "        12.31036  ],\n",
       "       [18.025085 , 17.247253 , -2.3186865, ..., 10.978022 ,  9.397651 ,\n",
       "        16.469563 ]], dtype=float32)>"
      ]
     },
     "execution_count": 68,
     "metadata": {},
     "output_type": "execute_result"
    }
   ],
   "source": [
    "two_multiplicado"
   ]
  }
 ],
 "metadata": {
  "kernelspec": {
   "display_name": "Python 3 (ipykernel)",
   "language": "python",
   "name": "python3"
  },
  "language_info": {
   "codemirror_mode": {
    "name": "ipython",
    "version": 3
   },
   "file_extension": ".py",
   "mimetype": "text/x-python",
   "name": "python",
   "nbconvert_exporter": "python",
   "pygments_lexer": "ipython3",
   "version": "3.11.2"
  }
 },
 "nbformat": 4,
 "nbformat_minor": 5
}
