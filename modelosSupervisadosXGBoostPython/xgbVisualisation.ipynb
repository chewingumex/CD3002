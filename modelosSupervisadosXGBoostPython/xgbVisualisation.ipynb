{
 "cells": [
  {
   "cell_type": "code",
   "execution_count": null,
   "id": "f07392fa-5e65-4480-b223-45632da873e9",
   "metadata": {},
   "outputs": [],
   "source": [
    "import xgboost\n",
    "import matplotlib.pyplot as plt\n",
    "import shap"
   ]
  },
  {
   "cell_type": "code",
   "execution_count": null,
   "id": "5a799426-38a1-4b2e-beac-36f9f4d99eed",
   "metadata": {},
   "outputs": [],
   "source": [
    "### SHAP visualisation\n",
    "def make_shap_visualisation(finalXGB, xtrain):\n",
    "    explainer = shap.TreeExplainer(finalXGB)\n",
    "    shap_values = explainer.shap_values(xtrain)\n",
    "    shap.summary_plot(shap_values, xtrain)"
   ]
  },
  {
   "cell_type": "code",
   "execution_count": null,
   "id": "34572eef-360c-40b6-9cf8-55ee2b15d677",
   "metadata": {},
   "outputs": [],
   "source": [
    "### XGB Native variable importance \n",
    "\n",
    "def plotVariableImportance(finalXGB, viz_type=None):\n",
    "    \n",
    "    if viz_type == None:\n",
    "        xgboost.plot_importance(finalXGB)\n",
    "        plt.title(\"xgboost.plot_importance(model)\")\n",
    "        plt.show()\n",
    "        \n",
    "    if viz_type == \"cover\":\n",
    "        \n",
    "        xgboost.plot_importance(finalXGB, importance_type=\"cover\")\n",
    "        plt.title('xgboost.plot_importance(model, importance_type=\"cover\")')\n",
    "        plt.show()\n",
    "        \n",
    "    if type == \"gain\":\n",
    "        xgboost.plot_importance(finalXGB, importance_type=\"gain\")\n",
    "        plt.title('xgboost.plot_importance(model, importance_type=\"gain\")')\n",
    "        plt.show()"
   ]
  },
  {
   "cell_type": "code",
   "execution_count": 1,
   "id": "563f83e6-79ae-44f5-9bff-6d8c8a3b03b4",
   "metadata": {},
   "outputs": [],
   "source": [
    "# visualize training error metrics \n",
    "\n",
    "def visualise_metrics(finalXGB, mod='classification'):\n",
    "    \n",
    "    if mod == 'classification':\n",
    "        results = finalXGB.evals_result_\n",
    "        fig, ax = plt.subplots(figsize=(12,4))\n",
    "        ax.plot(range(len(results['validation_0']['auc'])), results['validation_0']['auc'], label='train auc')\n",
    "        ax.plot(range(len(results['validation_1']['auc'])), results['validation_1']['auc'], label='test auc')\n",
    "        ax.legend()\n",
    "        plt.ylabel(\"auc\")\n",
    "        plt.title('AUC at Training')\n",
    "        plt.show()\n",
    "        \n",
    "    if mod == 'regression':\n",
    "    \n",
    "        results = finalXGB.evals_result_\n",
    "        fig, ax = plt.subplots(figsize=(12,4))\n",
    "        ax.plot(range(len(results['validation_0']['rmse'])), results['validation_0']['rmse'], label='train rmse')\n",
    "        ax.plot(range(len(results['validation_1']['rmse'])), results['validation_1']['rmse'], label='test rmse')\n",
    "        ax.legend()\n",
    "        plt.ylabel(\"rmse\")\n",
    "        plt.title('RMSE at Training')\n",
    "        plt.show()"
   ]
  }
 ],
 "metadata": {
  "kernelspec": {
   "display_name": "Python 3 (ipykernel)",
   "language": "python",
   "name": "python3"
  },
  "language_info": {
   "codemirror_mode": {
    "name": "ipython",
    "version": 3
   },
   "file_extension": ".py",
   "mimetype": "text/x-python",
   "name": "python",
   "nbconvert_exporter": "python",
   "pygments_lexer": "ipython3",
   "version": "3.11.2"
  }
 },
 "nbformat": 4,
 "nbformat_minor": 5
}
