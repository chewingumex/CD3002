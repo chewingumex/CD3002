{
 "cells": [
  {
   "cell_type": "code",
   "execution_count": 2,
   "id": "49e08d02-1c17-44c6-a334-672f4ec47d95",
   "metadata": {
    "tags": []
   },
   "outputs": [],
   "source": [
    "import pandas as pd\n",
    "import numpy as  np\n",
    "from sklearn.linear_model import LinearRegression"
   ]
  },
  {
   "cell_type": "code",
   "execution_count": 36,
   "id": "aa193069-0a8b-42eb-888e-3b5c71ec63c4",
   "metadata": {
    "tags": []
   },
   "outputs": [],
   "source": [
    "df1 = pd.read_csv('https://raw.githubusercontent.com/mwaskom/seaborn-data/master/iris.csv')"
   ]
  },
  {
   "cell_type": "code",
   "execution_count": 39,
   "id": "7861c2a3-fa91-4635-83a6-12d610ae6778",
   "metadata": {
    "tags": []
   },
   "outputs": [],
   "source": [
    "xvars = df1.drop(['sepal_length', 'species'], axis=1)\n",
    "y = df1.sepal_length\n",
    "\n",
    "reg = LinearRegression().fit(xvars, y)"
   ]
  },
  {
   "cell_type": "code",
   "execution_count": 41,
   "id": "cf5a72ee-d7f2-4be6-a4a3-d322ca12735c",
   "metadata": {
    "tags": []
   },
   "outputs": [
    {
     "data": {
      "text/plain": [
       "0.8586117200663177"
      ]
     },
     "execution_count": 41,
     "metadata": {},
     "output_type": "execute_result"
    }
   ],
   "source": [
    "# r squared\n",
    "\n",
    "reg.score(xvars, y)"
   ]
  },
  {
   "cell_type": "code",
   "execution_count": 42,
   "id": "0ad3709b-32b8-467c-a7dc-a965fdb64e99",
   "metadata": {
    "tags": []
   },
   "outputs": [
    {
     "data": {
      "text/plain": [
       "array([ 0.65083716,  0.70913196, -0.55648266])"
      ]
     },
     "execution_count": 42,
     "metadata": {},
     "output_type": "execute_result"
    }
   ],
   "source": [
    "# coeffcientes (theta)\n",
    "\n",
    "reg.coef_"
   ]
  },
  {
   "cell_type": "code",
   "execution_count": 43,
   "id": "09c4703d-dadf-498d-bd84-9705457c01ce",
   "metadata": {
    "tags": []
   },
   "outputs": [
    {
     "data": {
      "text/plain": [
       "1.855997492917545"
      ]
     },
     "execution_count": 43,
     "metadata": {},
     "output_type": "execute_result"
    }
   ],
   "source": [
    "# intercept (c)\n",
    "\n",
    "reg.intercept_"
   ]
  },
  {
   "cell_type": "code",
   "execution_count": 48,
   "id": "8b48cfab-e2ef-4872-b1c9-455af98965a1",
   "metadata": {
    "tags": []
   },
   "outputs": [],
   "source": [
    "errores = pd.DataFrame({\n",
    "    'y' : y,\n",
    "    'y_hat' : reg.predict(xvars)\n",
    "})"
   ]
  },
  {
   "cell_type": "code",
   "execution_count": 51,
   "id": "21d0857b-0ac8-4e18-bdde-028abdfadb67",
   "metadata": {
    "tags": []
   },
   "outputs": [],
   "source": [
    "import math\n",
    "errores['error'] = errores.y - errores.y_hat"
   ]
  },
  {
   "cell_type": "code",
   "execution_count": 57,
   "id": "06d42269-0872-4dc3-bb5e-439f95e208d3",
   "metadata": {
    "tags": []
   },
   "outputs": [
    {
     "data": {
      "text/html": [
       "<div>\n",
       "<style scoped>\n",
       "    .dataframe tbody tr th:only-of-type {\n",
       "        vertical-align: middle;\n",
       "    }\n",
       "\n",
       "    .dataframe tbody tr th {\n",
       "        vertical-align: top;\n",
       "    }\n",
       "\n",
       "    .dataframe thead th {\n",
       "        text-align: right;\n",
       "    }\n",
       "</style>\n",
       "<table border=\"1\" class=\"dataframe\">\n",
       "  <thead>\n",
       "    <tr style=\"text-align: right;\">\n",
       "      <th></th>\n",
       "      <th>y</th>\n",
       "      <th>y_hat</th>\n",
       "      <th>error</th>\n",
       "    </tr>\n",
       "  </thead>\n",
       "  <tbody>\n",
       "    <tr>\n",
       "      <th>0</th>\n",
       "      <td>5.1</td>\n",
       "      <td>5.015416</td>\n",
       "      <td>0.084584</td>\n",
       "    </tr>\n",
       "    <tr>\n",
       "      <th>1</th>\n",
       "      <td>4.9</td>\n",
       "      <td>4.689997</td>\n",
       "      <td>0.210003</td>\n",
       "    </tr>\n",
       "    <tr>\n",
       "      <th>2</th>\n",
       "      <td>4.7</td>\n",
       "      <td>4.749251</td>\n",
       "      <td>-0.049251</td>\n",
       "    </tr>\n",
       "    <tr>\n",
       "      <th>3</th>\n",
       "      <td>4.6</td>\n",
       "      <td>4.825994</td>\n",
       "      <td>-0.225994</td>\n",
       "    </tr>\n",
       "    <tr>\n",
       "      <th>4</th>\n",
       "      <td>5.0</td>\n",
       "      <td>5.080499</td>\n",
       "      <td>-0.080499</td>\n",
       "    </tr>\n",
       "  </tbody>\n",
       "</table>\n",
       "</div>"
      ],
      "text/plain": [
       "     y     y_hat     error\n",
       "0  5.1  5.015416  0.084584\n",
       "1  4.9  4.689997  0.210003\n",
       "2  4.7  4.749251 -0.049251\n",
       "3  4.6  4.825994 -0.225994\n",
       "4  5.0  5.080499 -0.080499"
      ]
     },
     "execution_count": 57,
     "metadata": {},
     "output_type": "execute_result"
    }
   ],
   "source": [
    "errores.head()"
   ]
  },
  {
   "cell_type": "code",
   "execution_count": 56,
   "id": "6a00656c-86eb-47ed-b60f-14345e40e035",
   "metadata": {
    "tags": []
   },
   "outputs": [
    {
     "data": {
      "text/plain": [
       "0.3103267623402908"
      ]
     },
     "execution_count": 56,
     "metadata": {},
     "output_type": "execute_result"
    }
   ],
   "source": [
    "# root mean squared error\n",
    "\n",
    "math.sqrt(sum((errores.error ** 2)) / df1.shape[0])"
   ]
  },
  {
   "cell_type": "code",
   "execution_count": 69,
   "id": "a19c4c03-ee22-4dee-80c1-8638add3b465",
   "metadata": {
    "tags": []
   },
   "outputs": [
    {
     "data": {
      "text/plain": [
       "0.2516794079346561"
      ]
     },
     "execution_count": 69,
     "metadata": {},
     "output_type": "execute_result"
    }
   ],
   "source": [
    "# mean absolute error\n",
    "\n",
    "np.mean(abs(errores.error)) "
   ]
  }
 ],
 "metadata": {
  "kernelspec": {
   "display_name": "Python 3 (ipykernel)",
   "language": "python",
   "name": "python3"
  },
  "language_info": {
   "codemirror_mode": {
    "name": "ipython",
    "version": 3
   },
   "file_extension": ".py",
   "mimetype": "text/x-python",
   "name": "python",
   "nbconvert_exporter": "python",
   "pygments_lexer": "ipython3",
   "version": "3.11.2"
  }
 },
 "nbformat": 4,
 "nbformat_minor": 5
}
