{
 "cells": [
  {
   "cell_type": "code",
   "execution_count": 1,
   "id": "7bb31329-e552-4374-8d66-1a03983d5293",
   "metadata": {
    "tags": []
   },
   "outputs": [
    {
     "name": "stderr",
     "output_type": "stream",
     "text": [
      "2024-04-04 18:00:34.563456: I tensorflow/core/platform/cpu_feature_guard.cc:182] This TensorFlow binary is optimized to use available CPU instructions in performance-critical operations.\n",
      "To enable the following instructions: AVX2 AVX512F AVX512_VNNI FMA, in other operations, rebuild TensorFlow with the appropriate compiler flags.\n"
     ]
    }
   ],
   "source": [
    "import pandas as pd\n",
    "import numpy as np\n",
    "import tensorflow as tf\n",
    "from sklearn.model_selection import train_test_split\n",
    "import matplotlib.pyplot as plt"
   ]
  },
  {
   "cell_type": "code",
   "execution_count": 2,
   "id": "6186c98a-10a7-4e58-b083-1469ffe7202d",
   "metadata": {
    "tags": []
   },
   "outputs": [],
   "source": [
    "df = pd.read_csv('./../ejerciciosModelosSupervisados/tasa_conversion/datos/KAG_conversion_data.csv')"
   ]
  },
  {
   "cell_type": "code",
   "execution_count": 3,
   "id": "457a5cdf-bef6-4808-82f6-4fad4d85ca3f",
   "metadata": {},
   "outputs": [],
   "source": [
    "# pre-process datos (si es necesario)\n",
    "\n",
    "df['age'] = df.age.replace({'30-34':1,'35-39':2,'40-44':3,'45-49':4})\n",
    "df = df.drop(['ad_id','Approved_Conversion','fb_campaign_id'], axis = 1)\n",
    "df['Spent'] = df.Spent.astype('float')\n",
    "df['xyz_campaign_id'] = df.xyz_campaign_id.astype(str)\n",
    "df = pd.get_dummies(df, drop_first=True)"
   ]
  },
  {
   "cell_type": "code",
   "execution_count": 4,
   "id": "660323d4-6de5-4426-8f36-d4e9d9f63cfa",
   "metadata": {},
   "outputs": [],
   "source": [
    "yvar = df.Total_Conversion\n",
    "xvars = df[[x for x in df.columns if x != 'Total_Conversion']]"
   ]
  },
  {
   "cell_type": "code",
   "execution_count": 5,
   "id": "75b98d00-ae04-4ec5-af3a-032141cae844",
   "metadata": {
    "tags": []
   },
   "outputs": [],
   "source": [
    "# dividir train / test para variables independientes (x)  y dependiente (y)\n",
    "xtrain, xtest, ytrain, ytest = train_test_split(xvars, yvar, train_size = 0.80, random_state = 2)"
   ]
  },
  {
   "cell_type": "code",
   "execution_count": 6,
   "id": "a07f82a3-8c64-4ae0-9a17-369a398bd0e5",
   "metadata": {
    "tags": []
   },
   "outputs": [],
   "source": [
    "# convertir datos en numpy arrays\n",
    "\n",
    "xtrain = np.array(xtrain)\n",
    "xtest= np.array(xtest)\n",
    "ytrain = np.array(ytrain).squeeze()\n",
    "ytest = np.array(ytest).squeeze()"
   ]
  },
  {
   "cell_type": "code",
   "execution_count": 7,
   "id": "f0d8e04e-127a-4cf0-8caa-756ca7a73768",
   "metadata": {
    "tags": []
   },
   "outputs": [],
   "source": [
    "# regression network / sequential API\n",
    "\n",
    "model = tf.keras.Sequential([\n",
    "    \n",
    "    tf.keras.layers.Dense(256, kernel_regularizer='l2', activation='relu'),\n",
    "    tf.keras.layers.Dense(128, activation='relu'),\n",
    "    tf.keras.layers.Dense(1)\n",
    "])\n",
    "\n",
    "optimizer = tf.keras.optimizers.Adam(learning_rate = 0.0002)\n",
    "\n",
    "model.compile(optimizer=optimizer, loss='mae')"
   ]
  },
  {
   "cell_type": "code",
   "execution_count": 8,
   "id": "2bf37bd1-704a-48f9-b12e-b89ce4f4b255",
   "metadata": {
    "tags": []
   },
   "outputs": [
    {
     "name": "stdout",
     "output_type": "stream",
     "text": [
      "Epoch 1/200\n",
      "29/29 [==============================] - 1s 8ms/step - loss: 5982.2666 - val_loss: 1155.2455 - lr: 2.0000e-04\n",
      "Epoch 2/200\n",
      "29/29 [==============================] - 0s 3ms/step - loss: 695.9269 - val_loss: 486.3830 - lr: 2.0000e-04\n",
      "Epoch 3/200\n",
      "29/29 [==============================] - 0s 3ms/step - loss: 347.2282 - val_loss: 361.6996 - lr: 2.0000e-04\n",
      "Epoch 4/200\n",
      "29/29 [==============================] - 0s 3ms/step - loss: 253.6453 - val_loss: 498.4914 - lr: 2.0000e-04\n",
      "Epoch 5/200\n",
      "29/29 [==============================] - 0s 3ms/step - loss: 270.9289 - val_loss: 168.3010 - lr: 2.0000e-04\n",
      "Epoch 6/200\n",
      "29/29 [==============================] - 0s 3ms/step - loss: 232.4744 - val_loss: 447.3149 - lr: 2.0000e-04\n",
      "Epoch 7/200\n",
      "29/29 [==============================] - 0s 3ms/step - loss: 191.0655 - val_loss: 470.9859 - lr: 2.0000e-04\n",
      "Epoch 8/200\n",
      "29/29 [==============================] - 0s 3ms/step - loss: 225.7425 - val_loss: 816.3935 - lr: 2.0000e-04\n",
      "Epoch 9/200\n",
      "29/29 [==============================] - 0s 3ms/step - loss: 284.7944 - val_loss: 296.9763 - lr: 2.0000e-04\n",
      "Epoch 10/200\n",
      "29/29 [==============================] - 0s 3ms/step - loss: 342.9030 - val_loss: 551.2325 - lr: 2.0000e-04\n",
      "Epoch 11/200\n",
      "29/29 [==============================] - 0s 3ms/step - loss: 142.2963 - val_loss: 6.7604 - lr: 2.0000e-05\n",
      "Epoch 12/200\n",
      "29/29 [==============================] - 0s 3ms/step - loss: 29.7625 - val_loss: 4.0671 - lr: 2.0000e-05\n",
      "Epoch 13/200\n",
      "29/29 [==============================] - 0s 3ms/step - loss: 17.1199 - val_loss: 4.7161 - lr: 2.0000e-05\n",
      "Epoch 14/200\n",
      "29/29 [==============================] - 0s 3ms/step - loss: 29.9440 - val_loss: 136.5237 - lr: 2.0000e-05\n",
      "Epoch 15/200\n",
      "29/29 [==============================] - 0s 3ms/step - loss: 58.8643 - val_loss: 1.9676 - lr: 2.0000e-05\n",
      "Epoch 16/200\n",
      "29/29 [==============================] - 0s 2ms/step - loss: 22.9165 - val_loss: 119.6713 - lr: 2.0000e-05\n",
      "Epoch 17/200\n",
      "29/29 [==============================] - 0s 3ms/step - loss: 41.0906 - val_loss: 35.1728 - lr: 2.0000e-05\n",
      "Epoch 18/200\n",
      "29/29 [==============================] - 0s 7ms/step - loss: 30.5224 - val_loss: 48.6081 - lr: 2.0000e-05\n",
      "Epoch 19/200\n",
      "29/29 [==============================] - 0s 3ms/step - loss: 17.9389 - val_loss: 12.8440 - lr: 2.0000e-05\n",
      "Epoch 20/200\n",
      "29/29 [==============================] - 0s 3ms/step - loss: 23.8295 - val_loss: 15.6706 - lr: 2.0000e-05\n",
      "Epoch 21/200\n",
      "29/29 [==============================] - 0s 3ms/step - loss: 3.9458 - val_loss: 3.5720 - lr: 2.0000e-06\n",
      "Epoch 22/200\n",
      "29/29 [==============================] - 0s 3ms/step - loss: 2.8805 - val_loss: 2.1620 - lr: 2.0000e-06\n",
      "Epoch 23/200\n",
      "29/29 [==============================] - 0s 3ms/step - loss: 2.1016 - val_loss: 2.4959 - lr: 2.0000e-06\n",
      "Epoch 24/200\n",
      "29/29 [==============================] - 0s 3ms/step - loss: 1.4956 - val_loss: 1.8511 - lr: 2.0000e-06\n",
      "Epoch 25/200\n",
      "29/29 [==============================] - 0s 3ms/step - loss: 3.6434 - val_loss: 6.3450 - lr: 2.0000e-06\n",
      "Epoch 26/200\n",
      "29/29 [==============================] - 0s 3ms/step - loss: 2.3637 - val_loss: 1.8479 - lr: 2.0000e-06\n",
      "Epoch 27/200\n",
      "29/29 [==============================] - 0s 3ms/step - loss: 1.8041 - val_loss: 2.7209 - lr: 2.0000e-06\n",
      "Epoch 28/200\n",
      "29/29 [==============================] - 0s 3ms/step - loss: 2.1654 - val_loss: 4.2622 - lr: 2.0000e-06\n",
      "Epoch 29/200\n",
      "29/29 [==============================] - 0s 3ms/step - loss: 2.1211 - val_loss: 2.5208 - lr: 2.0000e-06\n",
      "Epoch 30/200\n",
      "29/29 [==============================] - 0s 3ms/step - loss: 2.9216 - val_loss: 2.4786 - lr: 2.0000e-06\n",
      "Epoch 31/200\n",
      "29/29 [==============================] - 0s 3ms/step - loss: 1.9357 - val_loss: 3.8705 - lr: 2.0000e-06\n",
      "Epoch 32/200\n",
      "29/29 [==============================] - 0s 3ms/step - loss: 1.5484 - val_loss: 1.8346 - lr: 2.0000e-07\n",
      "Epoch 33/200\n",
      "29/29 [==============================] - 0s 3ms/step - loss: 1.3435 - val_loss: 1.7964 - lr: 2.0000e-07\n",
      "Epoch 34/200\n",
      "29/29 [==============================] - 0s 3ms/step - loss: 1.3162 - val_loss: 1.8149 - lr: 2.0000e-07\n",
      "Epoch 35/200\n",
      "29/29 [==============================] - 0s 3ms/step - loss: 1.2775 - val_loss: 1.8427 - lr: 2.0000e-07\n",
      "Epoch 36/200\n",
      "29/29 [==============================] - 0s 3ms/step - loss: 1.3082 - val_loss: 1.9069 - lr: 2.0000e-07\n",
      "Epoch 37/200\n",
      "29/29 [==============================] - 0s 3ms/step - loss: 1.2952 - val_loss: 2.0372 - lr: 2.0000e-07\n",
      "Epoch 38/200\n",
      "29/29 [==============================] - 0s 3ms/step - loss: 1.3035 - val_loss: 1.7924 - lr: 2.0000e-07\n",
      "Epoch 39/200\n",
      "29/29 [==============================] - 0s 3ms/step - loss: 1.3792 - val_loss: 1.9610 - lr: 2.0000e-07\n",
      "Epoch 40/200\n",
      "29/29 [==============================] - 0s 4ms/step - loss: 1.4472 - val_loss: 1.9768 - lr: 2.0000e-07\n",
      "Epoch 41/200\n",
      "29/29 [==============================] - 0s 3ms/step - loss: 1.3574 - val_loss: 1.8733 - lr: 2.0000e-07\n",
      "Epoch 42/200\n",
      "29/29 [==============================] - 0s 3ms/step - loss: 1.3534 - val_loss: 2.1468 - lr: 2.0000e-07\n",
      "Epoch 43/200\n",
      "29/29 [==============================] - 0s 4ms/step - loss: 1.4040 - val_loss: 1.7975 - lr: 2.0000e-07\n",
      "Epoch 44/200\n",
      "29/29 [==============================] - 0s 3ms/step - loss: 1.2473 - val_loss: 1.9896 - lr: 2.0000e-08\n",
      "Epoch 45/200\n",
      "29/29 [==============================] - 0s 3ms/step - loss: 1.2735 - val_loss: 1.8461 - lr: 2.0000e-08\n",
      "Epoch 46/200\n",
      "29/29 [==============================] - 0s 3ms/step - loss: 1.2523 - val_loss: 1.8804 - lr: 2.0000e-08\n",
      "Epoch 47/200\n",
      "29/29 [==============================] - 0s 3ms/step - loss: 1.2575 - val_loss: 1.8152 - lr: 2.0000e-08\n",
      "Epoch 48/200\n",
      "29/29 [==============================] - 0s 3ms/step - loss: 1.2613 - val_loss: 1.8624 - lr: 2.0000e-08\n",
      "Epoch 48: early stopping\n"
     ]
    }
   ],
   "source": [
    "history = model.fit(\n",
    "    xtrain,\n",
    "    ytrain,\n",
    "    epochs=200,\n",
    "    callbacks = [tf.keras.callbacks.EarlyStopping(monitor='val_loss',\n",
    "                                                  verbose=2, \n",
    "                                                  min_delta=0.001, \n",
    "                                                  patience=10),\n",
    "                 tf.keras.callbacks.ReduceLROnPlateau(monitor='val_loss', \n",
    "                                                      patience=5)],\n",
    "    validation_data=(xtest, ytest)\n",
    ")"
   ]
  },
  {
   "cell_type": "code",
   "execution_count": 9,
   "id": "45d8606f-8a51-47cb-8a07-e922c9a313d3",
   "metadata": {
    "tags": []
   },
   "outputs": [
    {
     "data": {
      "image/png": "[encoded data removed]",
      "text/plain": [
       "<Figure size 1200x400 with 1 Axes>"
      ]
     },
     "metadata": {},
     "output_type": "display_data"
    }
   ],
   "source": [
    "fig, ax = plt.subplots(figsize=(12,4))\n",
    "ax.plot(range(len(history.history['loss'])), history.history['loss'], label='train loss')\n",
    "ax.plot(range(len(history.history['val_loss'])), history.history['val_loss'], label='val loss')\n",
    "ax.legend()\n",
    "plt.ylabel(\"loss\")\n",
    "plt.title('Loss at Training')\n",
    "plt.show()"
   ]
  }
 ],
 "metadata": {
  "kernelspec": {
   "display_name": "Python 3 (ipykernel)",
   "language": "python",
   "name": "python3"
  },
  "language_info": {
   "codemirror_mode": {
    "name": "ipython",
    "version": 3
   },
   "file_extension": ".py",
   "mimetype": "text/x-python",
   "name": "python",
   "nbconvert_exporter": "python",
   "pygments_lexer": "ipython3",
   "version": "3.11.2"
  }
 },
 "nbformat": 4,
 "nbformat_minor": 5
}
