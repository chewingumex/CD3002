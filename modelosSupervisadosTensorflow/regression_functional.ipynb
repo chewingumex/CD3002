{
 "cells": [
  {
   "cell_type": "code",
   "execution_count": null,
   "id": "7bb31329-e552-4374-8d66-1a03983d5293",
   "metadata": {
    "tags": []
   },
   "outputs": [],
   "source": [
    "import pandas as pd\n",
    "import numpy as np\n",
    "import tensorflow as tf\n",
    "from sklearn.model_selection import train_test_split\n",
    "import matplotlib.pyplot as plt\n",
    "from tensorflow.keras.layers import Input, Dense\n",
    "from tensorflow.keras import Model"
   ]
  },
  {
   "cell_type": "code",
   "execution_count": null,
   "id": "6186c98a-10a7-4e58-b083-1469ffe7202d",
   "metadata": {
    "tags": []
   },
   "outputs": [],
   "source": [
    "df = pd.read_csv('./../ejerciciosModelosSupervisados/tasa_conversion/datos/KAG_conversion_data.csv')"
   ]
  },
  {
   "cell_type": "code",
   "execution_count": null,
   "id": "1d53bdcd-3faa-4990-a155-1f4a957ecdd7",
   "metadata": {
    "tags": []
   },
   "outputs": [],
   "source": [
    "# pre-process datos (si es necesario)\n",
    "\n",
    "df['age'] = df.age.replace({'30-34':1,'35-39':2,'40-44':3,'45-49':4})\n",
    "df = df.drop(['ad_id','Approved_Conversion','fb_campaign_id'], axis = 1)\n",
    "df['Spent'] = df.Spent.astype('float')\n",
    "df['xyz_campaign_id'] = df.xyz_campaign_id.astype(str)\n",
    "df = pd.get_dummies(df, drop_first=True)"
   ]
  },
  {
   "cell_type": "code",
   "execution_count": null,
   "id": "660323d4-6de5-4426-8f36-d4e9d9f63cfa",
   "metadata": {},
   "outputs": [],
   "source": [
    "yvar = df.Total_Conversion\n",
    "xvars = df[[x for x in df.columns if x != 'Total_Conversion']]"
   ]
  },
  {
   "cell_type": "code",
   "execution_count": null,
   "id": "75b98d00-ae04-4ec5-af3a-032141cae844",
   "metadata": {
    "tags": []
   },
   "outputs": [],
   "source": [
    "# dividir train / test para variables independientes (x)  y dependiente (y)\n",
    "xtrain, xtest, ytrain, ytest = train_test_split(xvars, yvar, train_size = 0.80, random_state = 2)"
   ]
  },
  {
   "cell_type": "code",
   "execution_count": null,
   "id": "a07f82a3-8c64-4ae0-9a17-369a398bd0e5",
   "metadata": {
    "tags": []
   },
   "outputs": [],
   "source": [
    "# convertir datos en numpy arrays\n",
    "\n",
    "xtrain = np.array(xtrain)\n",
    "xtest= np.array(xtest)\n",
    "ytrain = np.array(ytrain).squeeze()\n",
    "ytest = np.array(ytest).squeeze()"
   ]
  },
  {
   "cell_type": "code",
   "execution_count": null,
   "id": "a6c88697-3485-437b-b9b1-9fb078f8bf07",
   "metadata": {
    "tags": []
   },
   "outputs": [],
   "source": [
    "# arquitectura del modelo utilizando variables - FUNCTIONAL API\n",
    "\n",
    "# input\n",
    "model_input = Input(shape=(xtrain.shape[1],))\n",
    "# primera capa\n",
    "layer_1 = Dense(256, kernel_regularizer='l2', activation='relu')(model_input)\n",
    "#segunda capa\n",
    "layer_2 = Dense(256, kernel_regularizer='l2', activation='relu')(layer_1)\n",
    "# predicción\n",
    "model_output = Dense(1)(layer_2)\n",
    "# entrada y salida\n",
    "model = Model(inputs=model_input, \n",
    "              outputs=model_output)"
   ]
  },
  {
   "cell_type": "code",
   "execution_count": null,
   "id": "f34defee-55c7-44f8-b7d5-1d1f391210d0",
   "metadata": {
    "tags": []
   },
   "outputs": [],
   "source": [
    "optimizer = tf.keras.optimizers.Adam(learning_rate = 0.0002)\n",
    "\n",
    "model.compile(optimizer=optimizer, loss='mae')"
   ]
  },
  {
   "cell_type": "code",
   "execution_count": null,
   "id": "67dec206-9c3a-4559-b31c-6f0a0ebedfca",
   "metadata": {
    "tags": []
   },
   "outputs": [],
   "source": [
    "history = model.fit(\n",
    "    xtrain,\n",
    "    ytrain,\n",
    "    epochs=200,\n",
    "    callbacks = [tf.keras.callbacks.EarlyStopping(monitor='val_loss',verbose=2, min_delta=0.001, patience=10),\n",
    "                 tf.keras.callbacks.ReduceLROnPlateau(monitor='val_loss', patience=5)],\n",
    "    validation_data=(xtest, ytest)\n",
    ")"
   ]
  },
  {
   "cell_type": "code",
   "execution_count": null,
   "id": "45d8606f-8a51-47cb-8a07-e922c9a313d3",
   "metadata": {
    "tags": []
   },
   "outputs": [],
   "source": [
    "fig, ax = plt.subplots(figsize=(12,4))\n",
    "ax.plot(range(len(history.history['loss'])), history.history['loss'], label='train loss')\n",
    "ax.plot(range(len(history.history['val_loss'])), history.history['val_loss'], label='train loss')\n",
    "ax.legend()\n",
    "plt.ylabel(\"loss\")\n",
    "plt.title('Loss at Training')\n",
    "plt.show()"
   ]
  }
 ],
 "metadata": {
  "kernelspec": {
   "display_name": "Python 3 (ipykernel)",
   "language": "python",
   "name": "python3"
  },
  "language_info": {
   "codemirror_mode": {
    "name": "ipython",
    "version": 3
   },
   "file_extension": ".py",
   "mimetype": "text/x-python",
   "name": "python",
   "nbconvert_exporter": "python",
   "pygments_lexer": "ipython3",
   "version": "3.11.2"
  }
 },
 "nbformat": 4,
 "nbformat_minor": 5
}
