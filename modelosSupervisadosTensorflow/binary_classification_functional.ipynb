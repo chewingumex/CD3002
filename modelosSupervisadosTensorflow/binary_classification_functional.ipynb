{
 "cells": [
  {
   "cell_type": "code",
   "execution_count": 1,
   "id": "7bb31329-e552-4374-8d66-1a03983d5293",
   "metadata": {
    "tags": []
   },
   "outputs": [
    {
     "name": "stderr",
     "output_type": "stream",
     "text": [
      "2024-04-01 19:05:08.658135: I tensorflow/core/platform/cpu_feature_guard.cc:182] This TensorFlow binary is optimized to use available CPU instructions in performance-critical operations.\n",
      "To enable the following instructions: AVX2 AVX512F AVX512_VNNI FMA, in other operations, rebuild TensorFlow with the appropriate compiler flags.\n"
     ]
    }
   ],
   "source": [
    "import pandas as pd\n",
    "import numpy as np\n",
    "import tensorflow as tf\n",
    "from sklearn.model_selection import train_test_split\n",
    "import matplotlib.pyplot as plt\n",
    "from tensorflow.keras.layers import Input, Dense\n",
    "from tensorflow.keras import Model"
   ]
  },
  {
   "cell_type": "code",
   "execution_count": 2,
   "id": "6186c98a-10a7-4e58-b083-1469ffe7202d",
   "metadata": {
    "tags": []
   },
   "outputs": [],
   "source": [
    "df = pd.read_csv('./../ejerciciosModelosSupervisados/deteccion_transacciones_fraudulentas/datos/data_fraude.csv')"
   ]
  },
  {
   "cell_type": "code",
   "execution_count": 3,
   "id": "e5ec590c-aea8-4152-af7a-ab3cce387146",
   "metadata": {},
   "outputs": [],
   "source": [
    "# pre-process datos (si es necesario)\n",
    "df = df.rename(columns={'0.1':'Class'}).drop('Unnamed: 0',axis=1)"
   ]
  },
  {
   "cell_type": "code",
   "execution_count": 4,
   "id": "660323d4-6de5-4426-8f36-d4e9d9f63cfa",
   "metadata": {},
   "outputs": [],
   "source": [
    "yvar = df.Class\n",
    "xvars = df[[x for x in df.columns if x != 'Class']]"
   ]
  },
  {
   "cell_type": "code",
   "execution_count": 5,
   "id": "75b98d00-ae04-4ec5-af3a-032141cae844",
   "metadata": {
    "tags": []
   },
   "outputs": [],
   "source": [
    "# dividir train / test para variables independientes (x)  y dependiente (y)\n",
    "xtrain, xtest, ytrain, ytest = train_test_split(xvars, yvar, train_size = 0.80, random_state = 2)"
   ]
  },
  {
   "cell_type": "code",
   "execution_count": 6,
   "id": "a07f82a3-8c64-4ae0-9a17-369a398bd0e5",
   "metadata": {
    "tags": []
   },
   "outputs": [],
   "source": [
    "# convertir datos en numpy arrays\n",
    "\n",
    "xtrain = np.array(xtrain)\n",
    "xtest= np.array(xtest)\n",
    "ytrain = np.array(ytrain).squeeze()\n",
    "ytest = np.array(ytest).squeeze()"
   ]
  },
  {
   "cell_type": "code",
   "execution_count": 7,
   "id": "a6c88697-3485-437b-b9b1-9fb078f8bf07",
   "metadata": {
    "tags": []
   },
   "outputs": [],
   "source": [
    "# arquitectura del modelo utilizando variables - FUNCTIONAL API\n",
    "\n",
    "# input\n",
    "model_input = Input(shape=(xtrain.shape[1],))\n",
    "# primera capa\n",
    "layer_1 = Dense(256, kernel_regularizer='l2', activation='relu')(model_input)\n",
    "#segunda capa\n",
    "layer_2 = Dense(256, kernel_regularizer='l2', activation='relu')(layer_1)\n",
    "# predicción\n",
    "model_output = Dense(1, activation = 'sigmoid')(layer_2)\n",
    "# entrada y salida\n",
    "model = Model(inputs=model_input, \n",
    "              outputs=model_output)"
   ]
  },
  {
   "cell_type": "code",
   "execution_count": 8,
   "id": "f34defee-55c7-44f8-b7d5-1d1f391210d0",
   "metadata": {
    "tags": []
   },
   "outputs": [],
   "source": [
    "optimizer = tf.keras.optimizers.Adam(learning_rate = 0.0002)\n",
    "\n",
    "model.compile(optimizer=optimizer, loss='binary_crossentropy')"
   ]
  },
  {
   "cell_type": "code",
   "execution_count": 9,
   "id": "67dec206-9c3a-4559-b31c-6f0a0ebedfca",
   "metadata": {
    "tags": []
   },
   "outputs": [
    {
     "name": "stdout",
     "output_type": "stream",
     "text": [
      "Epoch 1/200\n",
      "113/113 [==============================] - 1s 4ms/step - loss: 2.7580 - val_loss: 2.1847 - lr: 2.0000e-04\n",
      "Epoch 2/200\n",
      "113/113 [==============================] - 0s 2ms/step - loss: 1.8060 - val_loss: 1.4362 - lr: 2.0000e-04\n",
      "Epoch 3/200\n",
      "113/113 [==============================] - 0s 2ms/step - loss: 1.1974 - val_loss: 0.9544 - lr: 2.0000e-04\n",
      "Epoch 4/200\n",
      "113/113 [==============================] - 0s 2ms/step - loss: 0.8088 - val_loss: 0.6508 - lr: 2.0000e-04\n",
      "Epoch 5/200\n",
      "113/113 [==============================] - 0s 2ms/step - loss: 0.5659 - val_loss: 0.4632 - lr: 2.0000e-04\n",
      "Epoch 6/200\n",
      "113/113 [==============================] - 0s 2ms/step - loss: 0.4167 - val_loss: 0.3473 - lr: 2.0000e-04\n",
      "Epoch 7/200\n",
      "113/113 [==============================] - 0s 2ms/step - loss: 0.3229 - val_loss: 0.2765 - lr: 2.0000e-04\n",
      "Epoch 8/200\n",
      "113/113 [==============================] - 0s 2ms/step - loss: 0.2641 - val_loss: 0.2291 - lr: 2.0000e-04\n",
      "Epoch 9/200\n",
      "113/113 [==============================] - 0s 2ms/step - loss: 0.2260 - val_loss: 0.1987 - lr: 2.0000e-04\n",
      "Epoch 10/200\n",
      "113/113 [==============================] - 0s 4ms/step - loss: 0.2003 - val_loss: 0.1777 - lr: 2.0000e-04\n",
      "Epoch 11/200\n",
      "113/113 [==============================] - 0s 3ms/step - loss: 0.1822 - val_loss: 0.1633 - lr: 2.0000e-04\n",
      "Epoch 12/200\n",
      "113/113 [==============================] - 0s 2ms/step - loss: 0.1701 - val_loss: 0.1524 - lr: 2.0000e-04\n",
      "Epoch 13/200\n",
      "113/113 [==============================] - 0s 2ms/step - loss: 0.1605 - val_loss: 0.1476 - lr: 2.0000e-04\n",
      "Epoch 14/200\n",
      "113/113 [==============================] - 0s 2ms/step - loss: 0.1536 - val_loss: 0.1398 - lr: 2.0000e-04\n",
      "Epoch 15/200\n",
      "113/113 [==============================] - 0s 2ms/step - loss: 0.1471 - val_loss: 0.1347 - lr: 2.0000e-04\n",
      "Epoch 16/200\n",
      "113/113 [==============================] - 0s 2ms/step - loss: 0.1422 - val_loss: 0.1318 - lr: 2.0000e-04\n",
      "Epoch 17/200\n",
      "113/113 [==============================] - 0s 2ms/step - loss: 0.1390 - val_loss: 0.1278 - lr: 2.0000e-04\n",
      "Epoch 18/200\n",
      "113/113 [==============================] - 0s 2ms/step - loss: 0.1352 - val_loss: 0.1259 - lr: 2.0000e-04\n",
      "Epoch 19/200\n",
      "113/113 [==============================] - 0s 2ms/step - loss: 0.1320 - val_loss: 0.1251 - lr: 2.0000e-04\n",
      "Epoch 20/200\n",
      "113/113 [==============================] - 0s 2ms/step - loss: 0.1295 - val_loss: 0.1206 - lr: 2.0000e-04\n",
      "Epoch 21/200\n",
      "113/113 [==============================] - 0s 2ms/step - loss: 0.1271 - val_loss: 0.1203 - lr: 2.0000e-04\n",
      "Epoch 22/200\n",
      "113/113 [==============================] - 0s 2ms/step - loss: 0.1250 - val_loss: 0.1206 - lr: 2.0000e-04\n",
      "Epoch 23/200\n",
      "113/113 [==============================] - 0s 2ms/step - loss: 0.1238 - val_loss: 0.1170 - lr: 2.0000e-04\n",
      "Epoch 24/200\n",
      "113/113 [==============================] - 0s 2ms/step - loss: 0.1217 - val_loss: 0.1156 - lr: 2.0000e-04\n",
      "Epoch 25/200\n",
      "113/113 [==============================] - 0s 2ms/step - loss: 0.1207 - val_loss: 0.1135 - lr: 2.0000e-04\n",
      "Epoch 26/200\n",
      "113/113 [==============================] - 0s 2ms/step - loss: 0.1188 - val_loss: 0.1135 - lr: 2.0000e-04\n",
      "Epoch 27/200\n",
      "113/113 [==============================] - 0s 2ms/step - loss: 0.1179 - val_loss: 0.1132 - lr: 2.0000e-04\n",
      "Epoch 28/200\n",
      "113/113 [==============================] - 0s 2ms/step - loss: 0.1161 - val_loss: 0.1103 - lr: 2.0000e-04\n",
      "Epoch 29/200\n",
      "113/113 [==============================] - 0s 2ms/step - loss: 0.1149 - val_loss: 0.1103 - lr: 2.0000e-04\n",
      "Epoch 30/200\n",
      "113/113 [==============================] - 0s 2ms/step - loss: 0.1141 - val_loss: 0.1088 - lr: 2.0000e-04\n",
      "Epoch 31/200\n",
      "113/113 [==============================] - 0s 2ms/step - loss: 0.1124 - val_loss: 0.1069 - lr: 2.0000e-04\n",
      "Epoch 32/200\n",
      "113/113 [==============================] - 0s 2ms/step - loss: 0.1117 - val_loss: 0.1083 - lr: 2.0000e-04\n",
      "Epoch 33/200\n",
      "113/113 [==============================] - 0s 3ms/step - loss: 0.1105 - val_loss: 0.1076 - lr: 2.0000e-04\n",
      "Epoch 34/200\n",
      "113/113 [==============================] - 0s 2ms/step - loss: 0.1096 - val_loss: 0.1059 - lr: 2.0000e-04\n",
      "Epoch 35/200\n",
      "113/113 [==============================] - 0s 2ms/step - loss: 0.1084 - val_loss: 0.1048 - lr: 2.0000e-04\n",
      "Epoch 36/200\n",
      "113/113 [==============================] - 0s 3ms/step - loss: 0.1072 - val_loss: 0.1047 - lr: 2.0000e-04\n",
      "Epoch 37/200\n",
      "113/113 [==============================] - 0s 2ms/step - loss: 0.1074 - val_loss: 0.1050 - lr: 2.0000e-04\n",
      "Epoch 38/200\n",
      "113/113 [==============================] - 0s 2ms/step - loss: 0.1062 - val_loss: 0.1034 - lr: 2.0000e-04\n",
      "Epoch 39/200\n",
      "113/113 [==============================] - 0s 2ms/step - loss: 0.1050 - val_loss: 0.1016 - lr: 2.0000e-04\n",
      "Epoch 40/200\n",
      "113/113 [==============================] - 0s 2ms/step - loss: 0.1046 - val_loss: 0.1028 - lr: 2.0000e-04\n",
      "Epoch 41/200\n",
      "113/113 [==============================] - 0s 2ms/step - loss: 0.1032 - val_loss: 0.1017 - lr: 2.0000e-04\n",
      "Epoch 42/200\n",
      "113/113 [==============================] - 0s 2ms/step - loss: 0.1033 - val_loss: 0.1003 - lr: 2.0000e-04\n",
      "Epoch 43/200\n",
      "113/113 [==============================] - 0s 2ms/step - loss: 0.1006 - val_loss: 0.1003 - lr: 2.0000e-04\n",
      "Epoch 44/200\n",
      "113/113 [==============================] - 0s 2ms/step - loss: 0.1013 - val_loss: 0.0985 - lr: 2.0000e-04\n",
      "Epoch 45/200\n",
      "113/113 [==============================] - 0s 2ms/step - loss: 0.1001 - val_loss: 0.0993 - lr: 2.0000e-04\n",
      "Epoch 46/200\n",
      "113/113 [==============================] - 0s 2ms/step - loss: 0.0996 - val_loss: 0.1011 - lr: 2.0000e-04\n",
      "Epoch 47/200\n",
      "113/113 [==============================] - 0s 2ms/step - loss: 0.0987 - val_loss: 0.0968 - lr: 2.0000e-04\n",
      "Epoch 48/200\n",
      "113/113 [==============================] - 0s 2ms/step - loss: 0.0981 - val_loss: 0.0980 - lr: 2.0000e-04\n",
      "Epoch 49/200\n",
      "113/113 [==============================] - 0s 2ms/step - loss: 0.0974 - val_loss: 0.0962 - lr: 2.0000e-04\n",
      "Epoch 50/200\n",
      "113/113 [==============================] - 0s 2ms/step - loss: 0.0964 - val_loss: 0.0969 - lr: 2.0000e-04\n",
      "Epoch 51/200\n",
      "113/113 [==============================] - 0s 2ms/step - loss: 0.0964 - val_loss: 0.0945 - lr: 2.0000e-04\n",
      "Epoch 52/200\n",
      "113/113 [==============================] - 0s 2ms/step - loss: 0.0957 - val_loss: 0.0948 - lr: 2.0000e-04\n",
      "Epoch 53/200\n",
      "113/113 [==============================] - 0s 2ms/step - loss: 0.0955 - val_loss: 0.0936 - lr: 2.0000e-04\n",
      "Epoch 54/200\n",
      "113/113 [==============================] - 0s 2ms/step - loss: 0.0951 - val_loss: 0.0940 - lr: 2.0000e-04\n",
      "Epoch 55/200\n",
      "113/113 [==============================] - 0s 2ms/step - loss: 0.0939 - val_loss: 0.0936 - lr: 2.0000e-04\n",
      "Epoch 56/200\n",
      "113/113 [==============================] - 0s 2ms/step - loss: 0.0929 - val_loss: 0.0921 - lr: 2.0000e-04\n",
      "Epoch 57/200\n",
      "113/113 [==============================] - 0s 2ms/step - loss: 0.0919 - val_loss: 0.0931 - lr: 2.0000e-04\n",
      "Epoch 58/200\n",
      "113/113 [==============================] - 0s 2ms/step - loss: 0.0918 - val_loss: 0.0930 - lr: 2.0000e-04\n",
      "Epoch 59/200\n",
      "113/113 [==============================] - 0s 2ms/step - loss: 0.0911 - val_loss: 0.0988 - lr: 2.0000e-04\n",
      "Epoch 60/200\n",
      "113/113 [==============================] - 0s 2ms/step - loss: 0.0907 - val_loss: 0.0919 - lr: 2.0000e-04\n",
      "Epoch 61/200\n",
      "113/113 [==============================] - 0s 2ms/step - loss: 0.0910 - val_loss: 0.0946 - lr: 2.0000e-04\n",
      "Epoch 62/200\n",
      "113/113 [==============================] - 0s 2ms/step - loss: 0.0905 - val_loss: 0.0922 - lr: 2.0000e-04\n",
      "Epoch 63/200\n",
      "113/113 [==============================] - 0s 2ms/step - loss: 0.0894 - val_loss: 0.0916 - lr: 2.0000e-04\n",
      "Epoch 64/200\n",
      "113/113 [==============================] - 0s 2ms/step - loss: 0.0889 - val_loss: 0.0901 - lr: 2.0000e-04\n",
      "Epoch 65/200\n",
      "113/113 [==============================] - 0s 2ms/step - loss: 0.0883 - val_loss: 0.0894 - lr: 2.0000e-04\n",
      "Epoch 66/200\n",
      "113/113 [==============================] - 0s 2ms/step - loss: 0.0876 - val_loss: 0.0905 - lr: 2.0000e-04\n",
      "Epoch 67/200\n",
      "113/113 [==============================] - 0s 2ms/step - loss: 0.0875 - val_loss: 0.0898 - lr: 2.0000e-04\n",
      "Epoch 68/200\n",
      "113/113 [==============================] - 0s 2ms/step - loss: 0.0874 - val_loss: 0.0868 - lr: 2.0000e-04\n",
      "Epoch 69/200\n",
      "113/113 [==============================] - 0s 2ms/step - loss: 0.0861 - val_loss: 0.0896 - lr: 2.0000e-04\n",
      "Epoch 70/200\n",
      "113/113 [==============================] - 0s 2ms/step - loss: 0.0859 - val_loss: 0.0885 - lr: 2.0000e-04\n",
      "Epoch 71/200\n",
      "113/113 [==============================] - 0s 2ms/step - loss: 0.0850 - val_loss: 0.0894 - lr: 2.0000e-04\n",
      "Epoch 72/200\n",
      "113/113 [==============================] - 0s 2ms/step - loss: 0.0845 - val_loss: 0.0866 - lr: 2.0000e-04\n",
      "Epoch 73/200\n",
      "113/113 [==============================] - 0s 2ms/step - loss: 0.0854 - val_loss: 0.0890 - lr: 2.0000e-04\n",
      "Epoch 74/200\n",
      "113/113 [==============================] - 0s 2ms/step - loss: 0.0848 - val_loss: 0.0873 - lr: 2.0000e-04\n",
      "Epoch 75/200\n",
      "113/113 [==============================] - 0s 2ms/step - loss: 0.0841 - val_loss: 0.0879 - lr: 2.0000e-04\n",
      "Epoch 76/200\n",
      "113/113 [==============================] - 0s 2ms/step - loss: 0.0827 - val_loss: 0.0849 - lr: 2.0000e-04\n",
      "Epoch 77/200\n",
      "113/113 [==============================] - 0s 2ms/step - loss: 0.0824 - val_loss: 0.0863 - lr: 2.0000e-04\n",
      "Epoch 78/200\n",
      "113/113 [==============================] - 0s 2ms/step - loss: 0.0829 - val_loss: 0.0867 - lr: 2.0000e-04\n",
      "Epoch 79/200\n",
      "113/113 [==============================] - 0s 2ms/step - loss: 0.0815 - val_loss: 0.0874 - lr: 2.0000e-04\n",
      "Epoch 80/200\n",
      "113/113 [==============================] - 0s 2ms/step - loss: 0.0852 - val_loss: 0.0880 - lr: 2.0000e-04\n",
      "Epoch 81/200\n",
      "113/113 [==============================] - 0s 2ms/step - loss: 0.0823 - val_loss: 0.0849 - lr: 2.0000e-04\n",
      "Epoch 82/200\n",
      "113/113 [==============================] - 0s 2ms/step - loss: 0.0801 - val_loss: 0.0840 - lr: 2.0000e-05\n",
      "Epoch 83/200\n",
      "113/113 [==============================] - 0s 2ms/step - loss: 0.0789 - val_loss: 0.0840 - lr: 2.0000e-05\n",
      "Epoch 84/200\n",
      "113/113 [==============================] - 0s 2ms/step - loss: 0.0786 - val_loss: 0.0841 - lr: 2.0000e-05\n",
      "Epoch 85/200\n",
      "113/113 [==============================] - 0s 2ms/step - loss: 0.0785 - val_loss: 0.0841 - lr: 2.0000e-05\n",
      "Epoch 86/200\n",
      "113/113 [==============================] - 0s 2ms/step - loss: 0.0784 - val_loss: 0.0839 - lr: 2.0000e-05\n",
      "Epoch 87/200\n",
      "113/113 [==============================] - 0s 2ms/step - loss: 0.0783 - val_loss: 0.0839 - lr: 2.0000e-05\n",
      "Epoch 88/200\n",
      "113/113 [==============================] - 0s 2ms/step - loss: 0.0782 - val_loss: 0.0839 - lr: 2.0000e-05\n",
      "Epoch 89/200\n",
      "113/113 [==============================] - 0s 2ms/step - loss: 0.0781 - val_loss: 0.0839 - lr: 2.0000e-05\n",
      "Epoch 90/200\n",
      "113/113 [==============================] - 0s 2ms/step - loss: 0.0780 - val_loss: 0.0838 - lr: 2.0000e-05\n",
      "Epoch 91/200\n",
      "113/113 [==============================] - 0s 2ms/step - loss: 0.0780 - val_loss: 0.0838 - lr: 2.0000e-05\n",
      "Epoch 92/200\n",
      "113/113 [==============================] - 0s 2ms/step - loss: 0.0776 - val_loss: 0.0838 - lr: 2.0000e-06\n",
      "Epoch 93/200\n",
      "113/113 [==============================] - 0s 2ms/step - loss: 0.0776 - val_loss: 0.0838 - lr: 2.0000e-06\n",
      "Epoch 94/200\n",
      "113/113 [==============================] - 0s 2ms/step - loss: 0.0776 - val_loss: 0.0838 - lr: 2.0000e-06\n",
      "Epoch 95/200\n",
      "113/113 [==============================] - 0s 2ms/step - loss: 0.0776 - val_loss: 0.0838 - lr: 2.0000e-06\n",
      "Epoch 96/200\n",
      "113/113 [==============================] - 0s 2ms/step - loss: 0.0776 - val_loss: 0.0838 - lr: 2.0000e-06\n",
      "Epoch 96: early stopping\n"
     ]
    }
   ],
   "source": [
    "history = model.fit(\n",
    "    xtrain,\n",
    "    ytrain,\n",
    "    epochs=200,\n",
    "    callbacks = [tf.keras.callbacks.EarlyStopping(monitor='val_loss',verbose=2, min_delta=0.001, patience=10),\n",
    "                 tf.keras.callbacks.ReduceLROnPlateau(monitor='val_loss', patience=5)],\n",
    "    validation_data=(xtest, ytest)\n",
    ")"
   ]
  },
  {
   "cell_type": "code",
   "execution_count": 10,
   "id": "45d8606f-8a51-47cb-8a07-e922c9a313d3",
   "metadata": {
    "tags": []
   },
   "outputs": [
    {
     "data": {
      "image/png": "[encoded data removed]",
      "text/plain": [
       "<Figure size 1200x400 with 1 Axes>"
      ]
     },
     "metadata": {},
     "output_type": "display_data"
    }
   ],
   "source": [
    "fig, ax = plt.subplots(figsize=(12,4))\n",
    "ax.plot(range(len(history.history['loss'])), history.history['loss'], label='train loss')\n",
    "ax.plot(range(len(history.history['val_loss'])), history.history['val_loss'], label='train loss')\n",
    "ax.legend()\n",
    "plt.ylabel(\"loss\")\n",
    "plt.title('Loss at Training')\n",
    "plt.show()"
   ]
  }
 ],
 "metadata": {
  "kernelspec": {
   "display_name": "Python 3 (ipykernel)",
   "language": "python",
   "name": "python3"
  },
  "language_info": {
   "codemirror_mode": {
    "name": "ipython",
    "version": 3
   },
   "file_extension": ".py",
   "mimetype": "text/x-python",
   "name": "python",
   "nbconvert_exporter": "python",
   "pygments_lexer": "ipython3",
   "version": "3.11.2"
  }
 },
 "nbformat": 4,
 "nbformat_minor": 5
}
