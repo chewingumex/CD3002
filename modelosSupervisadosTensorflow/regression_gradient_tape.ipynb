{
 "cells": [
  {
   "cell_type": "code",
   "execution_count": null,
   "id": "7bb31329-e552-4374-8d66-1a03983d5293",
   "metadata": {
    "tags": []
   },
   "outputs": [],
   "source": [
    "import pandas as pd\n",
    "import numpy as np\n",
    "import tensorflow as tf\n",
    "from sklearn.model_selection import train_test_split\n",
    "import matplotlib.pyplot as plt\n",
    "from tensorflow.keras.layers import Input, Dense\n",
    "from tensorflow.keras import Model"
   ]
  },
  {
   "cell_type": "code",
   "execution_count": null,
   "id": "6186c98a-10a7-4e58-b083-1469ffe7202d",
   "metadata": {
    "tags": []
   },
   "outputs": [],
   "source": [
    "df = pd.read_csv('./../ejerciciosModelosSupervisados/tasa_conversion/datos/KAG_conversion_data.csv')"
   ]
  },
  {
   "cell_type": "code",
   "execution_count": null,
   "id": "e5ec590c-aea8-4152-af7a-ab3cce387146",
   "metadata": {},
   "outputs": [],
   "source": [
    "# pre-process datos (si es necesario)\n",
    "\n",
    "df['age'] = df.age.replace({'30-34':1,'35-39':2,'40-44':3,'45-49':4})\n",
    "df = df.drop(['ad_id','Approved_Conversion','fb_campaign_id'], axis = 1)\n",
    "df['Spent'] = df.Spent.astype('float')\n",
    "df['xyz_campaign_id'] = df.xyz_campaign_id.astype(str)\n",
    "df = pd.get_dummies(df, drop_first=True)"
   ]
  },
  {
   "cell_type": "code",
   "execution_count": null,
   "id": "660323d4-6de5-4426-8f36-d4e9d9f63cfa",
   "metadata": {},
   "outputs": [],
   "source": [
    "yvar = df.Total_Conversion\n",
    "xvars = df[[x for x in df.columns if x != 'Total_Conversion']]"
   ]
  },
  {
   "cell_type": "code",
   "execution_count": null,
   "id": "75b98d00-ae04-4ec5-af3a-032141cae844",
   "metadata": {
    "tags": []
   },
   "outputs": [],
   "source": [
    "# dividir train / test para variables independientes (x)  y dependiente (y)\n",
    "xtrain, xtest, ytrain, ytest = train_test_split(xvars, yvar, train_size = 0.80, random_state = 2)"
   ]
  },
  {
   "cell_type": "code",
   "execution_count": null,
   "id": "a07f82a3-8c64-4ae0-9a17-369a398bd0e5",
   "metadata": {
    "tags": []
   },
   "outputs": [],
   "source": [
    "# convertir datos en numpy arrays\n",
    "\n",
    "xtrain = np.array(xtrain)\n",
    "xtest= np.array(xtest)\n",
    "ytrain = np.array(ytrain)\n",
    "ytest = np.array(ytest)"
   ]
  },
  {
   "cell_type": "code",
   "execution_count": null,
   "id": "a6c88697-3485-437b-b9b1-9fb078f8bf07",
   "metadata": {
    "tags": []
   },
   "outputs": [],
   "source": [
    "# arquitectura del modelo utilizando variables - FUNCTIONAL API\n",
    "\n",
    "# input\n",
    "model_input = Input(shape=(xtrain.shape[1],))\n",
    "# primera capa\n",
    "layer_1 = Dense(256, kernel_regularizer='l2', activation='relu')(model_input)\n",
    "#segunda capa\n",
    "layer_2 = Dense(128, kernel_regularizer='l2', activation='relu')(layer_1)\n",
    "# predicción\n",
    "model_output = Dense(1)(layer_2)\n",
    "# entrada y salida\n",
    "model = Model(inputs=model_input, \n",
    "              outputs=model_output)"
   ]
  },
  {
   "cell_type": "code",
   "execution_count": null,
   "id": "67dec206-9c3a-4559-b31c-6f0a0ebedfca",
   "metadata": {
    "tags": []
   },
   "outputs": [],
   "source": [
    "error_train_history = []\n",
    "error_test_history = []\n",
    "\n",
    "num_epochs = 50\n",
    "\n",
    "optimizer = tf.keras.optimizers.Adam(learning_rate = 0.0002)\n",
    "\n",
    "mae = tf.keras.losses.MeanAbsoluteError()\n",
    "\n",
    "for i in range(num_epochs):\n",
    "    \n",
    "    print('epoch number: {i}'.format(i=i+1))\n",
    "    \n",
    "    with tf.GradientTape() as t:\n",
    "        \n",
    "        # aplicar coeficientes a variables y predecir la y\n",
    "        ytrain_hat = model(xtrain)\n",
    "        ytest_hat = model(xtest)\n",
    "        # calcular el error (que buscamos reducir)\n",
    "        error_train = mae(tf.expand_dims(ytrain, 1), ytrain_hat)\n",
    "        error_test = mae(tf.expand_dims(ytest, 1), ytest_hat)\n",
    "        # guardar el error para visualizar luego\n",
    "        error_train_history.append(error_train.numpy())\n",
    "        error_test_history.append(error_test.numpy())\n",
    "    \n",
    "    # calcular los gradientes de cada uno de los coeficientes con respecto al error    \n",
    "    gradients = t.gradient(error_train, model.trainable_weights)\n",
    "    # restar los gradientes * learning_rate a cada uno de los coeficientes\n",
    "    optimizer.apply_gradients(zip(gradients, model.trainable_weights))     \n",
    "    \n",
    "    if i > 10:\n",
    "        \n",
    "        if error_train_history[-4] < error_train_history[-1]:\n",
    "            \n",
    "            break\n",
    "            \n",
    "            print('stopping training as no improvement in 3 epochs')\n",
    "    \n",
    "    print('train error: {error_train}, test error: {error_test}'.format(error_train=error_train,error_test=error_test))"
   ]
  },
  {
   "cell_type": "code",
   "execution_count": null,
   "id": "45d8606f-8a51-47cb-8a07-e922c9a313d3",
   "metadata": {
    "tags": []
   },
   "outputs": [],
   "source": [
    "fig, ax = plt.subplots(figsize=(12,4))\n",
    "ax.plot(range(len(error_train_history)), error_train_history, label='train loss')\n",
    "ax.plot(range(len(error_test_history)), error_test_history, label='train loss')\n",
    "ax.legend()\n",
    "plt.ylabel(\"loss\")\n",
    "plt.title('Error at Training')\n",
    "plt.show()"
   ]
  },
  {
   "cell_type": "code",
   "execution_count": null,
   "id": "c63ed473-cf0a-401c-8aad-476016edbd2d",
   "metadata": {},
   "outputs": [],
   "source": []
  }
 ],
 "metadata": {
  "kernelspec": {
   "display_name": "Python 3 (ipykernel)",
   "language": "python",
   "name": "python3"
  },
  "language_info": {
   "codemirror_mode": {
    "name": "ipython",
    "version": 3
   },
   "file_extension": ".py",
   "mimetype": "text/x-python",
   "name": "python",
   "nbconvert_exporter": "python",
   "pygments_lexer": "ipython3",
   "version": "3.11.2"
  }
 },
 "nbformat": 4,
 "nbformat_minor": 5
}
