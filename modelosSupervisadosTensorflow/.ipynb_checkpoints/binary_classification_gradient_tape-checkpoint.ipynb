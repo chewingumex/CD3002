{
 "cells": [
  {
   "cell_type": "code",
   "execution_count": 1,
   "id": "7bb31329-e552-4374-8d66-1a03983d5293",
   "metadata": {
    "tags": []
   },
   "outputs": [
    {
     "name": "stderr",
     "output_type": "stream",
     "text": [
      "2024-04-01 22:55:52.050478: I tensorflow/core/platform/cpu_feature_guard.cc:182] This TensorFlow binary is optimized to use available CPU instructions in performance-critical operations.\n",
      "To enable the following instructions: AVX2 AVX512F AVX512_VNNI FMA, in other operations, rebuild TensorFlow with the appropriate compiler flags.\n"
     ]
    }
   ],
   "source": [
    "import pandas as pd\n",
    "import numpy as np\n",
    "import tensorflow as tf\n",
    "from sklearn.model_selection import train_test_split\n",
    "import matplotlib.pyplot as plt\n",
    "from tensorflow.keras.layers import Input, Dense\n",
    "from tensorflow.keras import Model"
   ]
  },
  {
   "cell_type": "code",
   "execution_count": 2,
   "id": "6186c98a-10a7-4e58-b083-1469ffe7202d",
   "metadata": {
    "tags": []
   },
   "outputs": [],
   "source": [
    "df = pd.read_csv('./../ejerciciosModelosSupervisados/deteccion_transacciones_fraudulentas/datos/data_fraude.csv')"
   ]
  },
  {
   "cell_type": "code",
   "execution_count": 3,
   "id": "e5ec590c-aea8-4152-af7a-ab3cce387146",
   "metadata": {},
   "outputs": [],
   "source": [
    "# pre-process datos (si es necesario)\n",
    "df = df.rename(columns={'0.1':'Class'}).drop('Unnamed: 0',axis=1)"
   ]
  },
  {
   "cell_type": "code",
   "execution_count": 4,
   "id": "660323d4-6de5-4426-8f36-d4e9d9f63cfa",
   "metadata": {},
   "outputs": [],
   "source": [
    "yvar = df.Class\n",
    "xvars = df[[x for x in df.columns if x != 'Class']]"
   ]
  },
  {
   "cell_type": "code",
   "execution_count": 5,
   "id": "75b98d00-ae04-4ec5-af3a-032141cae844",
   "metadata": {
    "tags": []
   },
   "outputs": [],
   "source": [
    "# dividir train / test para variables independientes (x)  y dependiente (y)\n",
    "xtrain, xtest, ytrain, ytest = train_test_split(xvars, yvar, train_size = 0.80, random_state = 2)"
   ]
  },
  {
   "cell_type": "code",
   "execution_count": 6,
   "id": "a07f82a3-8c64-4ae0-9a17-369a398bd0e5",
   "metadata": {
    "tags": []
   },
   "outputs": [],
   "source": [
    "# convertir datos en numpy arrays\n",
    "\n",
    "xtrain = np.array(xtrain)\n",
    "xtest= np.array(xtest)\n",
    "ytrain = np.array(ytrain)\n",
    "ytest = np.array(ytest)"
   ]
  },
  {
   "cell_type": "code",
   "execution_count": 7,
   "id": "a6c88697-3485-437b-b9b1-9fb078f8bf07",
   "metadata": {
    "tags": []
   },
   "outputs": [],
   "source": [
    "# arquitectura del modelo utilizando variables - FUNCTIONAL API\n",
    "\n",
    "# input\n",
    "model_input = Input(shape=(xtrain.shape[1],))\n",
    "# primera capa\n",
    "layer_1 = Dense(256, kernel_regularizer='l2', activation='relu')(model_input)\n",
    "#segunda capa\n",
    "layer_2 = Dense(128, kernel_regularizer='l2', activation='relu')(layer_1)\n",
    "# predicción\n",
    "model_output = Dense(1, activation='sigmoid')(layer_2)\n",
    "# entrada y salida\n",
    "model = Model(inputs=model_input, \n",
    "              outputs=model_output)"
   ]
  },
  {
   "cell_type": "code",
   "execution_count": 9,
   "id": "67dec206-9c3a-4559-b31c-6f0a0ebedfca",
   "metadata": {
    "tags": []
   },
   "outputs": [
    {
     "name": "stdout",
     "output_type": "stream",
     "text": [
      "epoch number: 1\n",
      "train error: 1.6484265327453613, test error: 1.5707465410232544\n",
      "epoch number: 2\n",
      "train error: 1.5104765892028809, test error: 1.444577932357788\n",
      "epoch number: 3\n",
      "train error: 1.3750900030136108, test error: 1.320788860321045\n",
      "epoch number: 4\n",
      "train error: 1.242935061454773, test error: 1.199968695640564\n",
      "epoch number: 5\n",
      "train error: 1.1146405935287476, test error: 1.0828982591629028\n",
      "epoch number: 6\n",
      "train error: 0.9917961955070496, test error: 0.9710285663604736\n",
      "epoch number: 7\n",
      "train error: 0.8773170113563538, test error: 0.8666148781776428\n",
      "epoch number: 8\n",
      "train error: 0.7754176259040833, test error: 0.7731159329414368\n",
      "epoch number: 9\n",
      "train error: 0.6904057264328003, test error: 0.6938340067863464\n",
      "epoch number: 10\n",
      "train error: 0.6238500475883484, test error: 0.6304727792739868\n",
      "epoch number: 11\n",
      "train error: 0.5741455554962158, test error: 0.5822044610977173\n",
      "epoch number: 12\n",
      "train error: 0.5373450517654419, test error: 0.5458598732948303\n",
      "epoch number: 13\n",
      "train error: 0.5095147490501404, test error: 0.5178152918815613\n",
      "epoch number: 14\n",
      "train error: 0.4879886507987976, test error: 0.495467871427536\n",
      "epoch number: 15\n",
      "train error: 0.4709661304950714, test error: 0.47725602984428406\n",
      "epoch number: 16\n",
      "train error: 0.45710060000419617, test error: 0.46205079555511475\n",
      "epoch number: 17\n",
      "train error: 0.4454062581062317, test error: 0.44914597272872925\n",
      "epoch number: 18\n",
      "train error: 0.43519139289855957, test error: 0.4379240572452545\n",
      "epoch number: 19\n",
      "train error: 0.4259486198425293, test error: 0.4278448820114136\n",
      "epoch number: 20\n",
      "train error: 0.41730883717536926, test error: 0.4184629023075104\n",
      "epoch number: 21\n",
      "train error: 0.40904635190963745, test error: 0.409516304731369\n",
      "epoch number: 22\n",
      "train error: 0.401037335395813, test error: 0.4008587896823883\n",
      "epoch number: 23\n",
      "train error: 0.39320826530456543, test error: 0.3924036920070648\n",
      "epoch number: 24\n",
      "train error: 0.3855181932449341, test error: 0.38413622975349426\n",
      "epoch number: 25\n",
      "train error: 0.37796157598495483, test error: 0.3760356903076172\n",
      "epoch number: 26\n",
      "train error: 0.3705463409423828, test error: 0.3681066930294037\n",
      "epoch number: 27\n",
      "train error: 0.363278329372406, test error: 0.3603523373603821\n",
      "epoch number: 28\n",
      "train error: 0.3561705946922302, test error: 0.35278305411338806\n",
      "epoch number: 29\n",
      "train error: 0.3492295444011688, test error: 0.3454090654850006\n",
      "epoch number: 30\n",
      "train error: 0.3424699008464813, test error: 0.3382507264614105\n",
      "epoch number: 31\n",
      "train error: 0.33590012788772583, test error: 0.33130794763565063\n",
      "epoch number: 32\n",
      "train error: 0.3295304477214813, test error: 0.32458481192588806\n",
      "epoch number: 33\n",
      "train error: 0.3233635425567627, test error: 0.3180828094482422\n",
      "epoch number: 34\n",
      "train error: 0.3173987865447998, test error: 0.3118005096912384\n",
      "epoch number: 35\n",
      "train error: 0.3116425573825836, test error: 0.30573365092277527\n",
      "epoch number: 36\n",
      "train error: 0.30609577894210815, test error: 0.299895316362381\n",
      "epoch number: 37\n",
      "train error: 0.3007523715496063, test error: 0.2942783832550049\n",
      "epoch number: 38\n",
      "train error: 0.29561319947242737, test error: 0.2888728976249695\n",
      "epoch number: 39\n",
      "train error: 0.2906682789325714, test error: 0.2836727797985077\n",
      "epoch number: 40\n",
      "train error: 0.2859169542789459, test error: 0.27868205308914185\n",
      "epoch number: 41\n",
      "train error: 0.2813449501991272, test error: 0.2738834321498871\n",
      "epoch number: 42\n",
      "train error: 0.2769443392753601, test error: 0.2692708969116211\n",
      "epoch number: 43\n",
      "train error: 0.2727011740207672, test error: 0.26482832431793213\n",
      "epoch number: 44\n",
      "train error: 0.26860982179641724, test error: 0.2605564594268799\n",
      "epoch number: 45\n",
      "train error: 0.2646591365337372, test error: 0.25644057989120483\n",
      "epoch number: 46\n",
      "train error: 0.2608409523963928, test error: 0.25247111916542053\n",
      "epoch number: 47\n",
      "train error: 0.25714659690856934, test error: 0.24863389134407043\n",
      "epoch number: 48\n",
      "train error: 0.25356537103652954, test error: 0.2449207603931427\n",
      "epoch number: 49\n",
      "train error: 0.2500925660133362, test error: 0.2413269281387329\n",
      "epoch number: 50\n",
      "train error: 0.24672392010688782, test error: 0.23784439265727997\n"
     ]
    }
   ],
   "source": [
    "error_train_history = []\n",
    "error_test_history = []\n",
    "\n",
    "num_epochs = 50\n",
    "\n",
    "optimizer = tf.keras.optimizers.Adam(learning_rate = 0.0002)\n",
    "\n",
    "binary_crossentropy = tf.keras.losses.BinaryCrossentropy()\n",
    "\n",
    "for i in range(num_epochs):\n",
    "    \n",
    "    print('epoch number: {i}'.format(i=i+1))\n",
    "    \n",
    "    with tf.GradientTape() as t:\n",
    "        \n",
    "        # aplicar coeficientes a variables y predecir la y\n",
    "        ytrain_hat = model(xtrain)\n",
    "        ytest_hat = model(xtest)\n",
    "        # calcular el error (que buscamos reducir)\n",
    "        error_train = binary_crossentropy(tf.expand_dims(ytrain, 1), ytrain_hat)\n",
    "        error_test = binary_crossentropy(tf.expand_dims(ytest, 1), ytest_hat)\n",
    "        # guardar el error para visualizar luego\n",
    "        error_train_history.append(error_train.numpy())\n",
    "        error_test_history.append(error_test.numpy())\n",
    "        # calcular los gradientes de cada uno de los coeficientes con respecto al error\n",
    "    gradients = t.gradient(error_train, model.trainable_weights)\n",
    "    # restar los gradientes * learning_rate a cada uno de los coeficientes\n",
    "    optimizer.apply_gradients(zip(gradients, model.trainable_weights))     \n",
    "    print('train error: {error_train}, test error: {error_test}'.format(error_train=error_train,error_test=error_test))"
   ]
  },
  {
   "cell_type": "code",
   "execution_count": 10,
   "id": "45d8606f-8a51-47cb-8a07-e922c9a313d3",
   "metadata": {
    "tags": []
   },
   "outputs": [
    {
     "data": {
      "image/png": "[encoded data removed]",
      "text/plain": [
       "<Figure size 1200x400 with 1 Axes>"
      ]
     },
     "metadata": {},
     "output_type": "display_data"
    }
   ],
   "source": [
    "fig, ax = plt.subplots(figsize=(12,4))\n",
    "ax.plot(range(len(error_train_history)), error_train_history, label='train loss')\n",
    "ax.plot(range(len(error_test_history)), error_test_history, label='train loss')\n",
    "ax.legend()\n",
    "plt.ylabel(\"loss\")\n",
    "plt.title('Error at Training')\n",
    "plt.show()"
   ]
  },
  {
   "cell_type": "code",
   "execution_count": null,
   "id": "98178ee2-580d-4b1f-8fe8-677e8af4e6cb",
   "metadata": {},
   "outputs": [],
   "source": []
  }
 ],
 "metadata": {
  "kernelspec": {
   "display_name": "Python 3 (ipykernel)",
   "language": "python",
   "name": "python3"
  },
  "language_info": {
   "codemirror_mode": {
    "name": "ipython",
    "version": 3
   },
   "file_extension": ".py",
   "mimetype": "text/x-python",
   "name": "python",
   "nbconvert_exporter": "python",
   "pygments_lexer": "ipython3",
   "version": "3.11.2"
  }
 },
 "nbformat": 4,
 "nbformat_minor": 5
}
