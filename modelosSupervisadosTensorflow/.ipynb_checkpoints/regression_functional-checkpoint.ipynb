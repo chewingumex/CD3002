{
 "cells": [
  {
   "cell_type": "code",
   "execution_count": 1,
   "id": "7bb31329-e552-4374-8d66-1a03983d5293",
   "metadata": {
    "tags": []
   },
   "outputs": [
    {
     "name": "stderr",
     "output_type": "stream",
     "text": [
      "2024-04-04 17:32:38.872036: I tensorflow/core/platform/cpu_feature_guard.cc:182] This TensorFlow binary is optimized to use available CPU instructions in performance-critical operations.\n",
      "To enable the following instructions: AVX2 AVX512F AVX512_VNNI FMA, in other operations, rebuild TensorFlow with the appropriate compiler flags.\n"
     ]
    }
   ],
   "source": [
    "import pandas as pd\n",
    "import numpy as np\n",
    "import tensorflow as tf\n",
    "from sklearn.model_selection import train_test_split\n",
    "import matplotlib.pyplot as plt\n",
    "from tensorflow.keras.layers import Input, Dense\n",
    "from tensorflow.keras import Model"
   ]
  },
  {
   "cell_type": "code",
   "execution_count": 2,
   "id": "6186c98a-10a7-4e58-b083-1469ffe7202d",
   "metadata": {
    "tags": []
   },
   "outputs": [],
   "source": [
    "df = pd.read_csv('./../ejerciciosModelosSupervisados/tasa_conversion/datos/KAG_conversion_data.csv')"
   ]
  },
  {
   "cell_type": "code",
   "execution_count": 3,
   "id": "1d53bdcd-3faa-4990-a155-1f4a957ecdd7",
   "metadata": {
    "tags": []
   },
   "outputs": [],
   "source": [
    "# pre-process datos (si es necesario)\n",
    "\n",
    "df['age'] = df.age.replace({'30-34':1,'35-39':2,'40-44':3,'45-49':4})\n",
    "df = df.drop(['ad_id','Approved_Conversion','fb_campaign_id'], axis = 1)\n",
    "df['Spent'] = df.Spent.astype('float')\n",
    "df['xyz_campaign_id'] = df.xyz_campaign_id.astype(str)\n",
    "df = pd.get_dummies(df, drop_first=True)"
   ]
  },
  {
   "cell_type": "code",
   "execution_count": 5,
   "id": "660323d4-6de5-4426-8f36-d4e9d9f63cfa",
   "metadata": {},
   "outputs": [],
   "source": [
    "yvar = df.Total_Conversion\n",
    "xvars = df[[x for x in df.columns if x != 'Total_Conversion']]"
   ]
  },
  {
   "cell_type": "code",
   "execution_count": 6,
   "id": "75b98d00-ae04-4ec5-af3a-032141cae844",
   "metadata": {
    "tags": []
   },
   "outputs": [],
   "source": [
    "# dividir train / test para variables independientes (x)  y dependiente (y)\n",
    "xtrain, xtest, ytrain, ytest = train_test_split(xvars, yvar, train_size = 0.80, random_state = 2)"
   ]
  },
  {
   "cell_type": "code",
   "execution_count": 7,
   "id": "a07f82a3-8c64-4ae0-9a17-369a398bd0e5",
   "metadata": {
    "tags": []
   },
   "outputs": [],
   "source": [
    "# convertir datos en numpy arrays\n",
    "\n",
    "xtrain = np.array(xtrain)\n",
    "xtest= np.array(xtest)\n",
    "ytrain = np.array(ytrain).squeeze()\n",
    "ytest = np.array(ytest).squeeze()"
   ]
  },
  {
   "cell_type": "code",
   "execution_count": 8,
   "id": "a6c88697-3485-437b-b9b1-9fb078f8bf07",
   "metadata": {
    "tags": []
   },
   "outputs": [],
   "source": [
    "# arquitectura del modelo utilizando variables - FUNCTIONAL API\n",
    "\n",
    "# input\n",
    "model_input = Input(shape=(xtrain.shape[1],))\n",
    "# primera capa\n",
    "layer_1 = Dense(256, kernel_regularizer='l2', activation='relu')(model_input)\n",
    "#segunda capa\n",
    "layer_2 = Dense(256, kernel_regularizer='l2', activation='relu')(layer_1)\n",
    "# predicción\n",
    "model_output = Dense(1)(layer_2)\n",
    "# entrada y salida\n",
    "model = Model(inputs=model_input, \n",
    "              outputs=model_output)"
   ]
  },
  {
   "cell_type": "code",
   "execution_count": 9,
   "id": "f34defee-55c7-44f8-b7d5-1d1f391210d0",
   "metadata": {
    "tags": []
   },
   "outputs": [],
   "source": [
    "optimizer = tf.keras.optimizers.Adam(learning_rate = 0.0002)\n",
    "\n",
    "model.compile(optimizer=optimizer, loss='mae')"
   ]
  },
  {
   "cell_type": "code",
   "execution_count": 10,
   "id": "67dec206-9c3a-4559-b31c-6f0a0ebedfca",
   "metadata": {
    "tags": []
   },
   "outputs": [
    {
     "name": "stdout",
     "output_type": "stream",
     "text": [
      "Epoch 1/200\n",
      "29/29 [==============================] - 1s 8ms/step - loss: 2077.3191 - val_loss: 2304.3816 - lr: 2.0000e-04\n",
      "Epoch 2/200\n",
      "29/29 [==============================] - 0s 3ms/step - loss: 1006.7891 - val_loss: 70.3803 - lr: 2.0000e-04\n",
      "Epoch 3/200\n",
      "29/29 [==============================] - 0s 3ms/step - loss: 374.9579 - val_loss: 630.5438 - lr: 2.0000e-04\n",
      "Epoch 4/200\n",
      "29/29 [==============================] - 0s 3ms/step - loss: 537.2672 - val_loss: 450.2023 - lr: 2.0000e-04\n",
      "Epoch 5/200\n",
      "29/29 [==============================] - 0s 4ms/step - loss: 987.3584 - val_loss: 1157.6270 - lr: 2.0000e-04\n",
      "Epoch 6/200\n",
      "29/29 [==============================] - 0s 4ms/step - loss: 721.2955 - val_loss: 639.6832 - lr: 2.0000e-04\n",
      "Epoch 7/200\n",
      "29/29 [==============================] - 0s 3ms/step - loss: 659.6629 - val_loss: 726.9635 - lr: 2.0000e-04\n",
      "Epoch 8/200\n",
      "29/29 [==============================] - 0s 4ms/step - loss: 242.7872 - val_loss: 67.2903 - lr: 2.0000e-05\n",
      "Epoch 9/200\n",
      "29/29 [==============================] - 0s 3ms/step - loss: 34.5624 - val_loss: 4.4858 - lr: 2.0000e-05\n",
      "Epoch 10/200\n",
      "29/29 [==============================] - 0s 3ms/step - loss: 50.4217 - val_loss: 78.1814 - lr: 2.0000e-05\n",
      "Epoch 11/200\n",
      "29/29 [==============================] - 0s 3ms/step - loss: 66.0300 - val_loss: 42.8739 - lr: 2.0000e-05\n",
      "Epoch 12/200\n",
      "29/29 [==============================] - 0s 3ms/step - loss: 27.9058 - val_loss: 25.1806 - lr: 2.0000e-05\n",
      "Epoch 13/200\n",
      "29/29 [==============================] - 0s 3ms/step - loss: 29.8461 - val_loss: 87.0958 - lr: 2.0000e-05\n",
      "Epoch 14/200\n",
      "29/29 [==============================] - 0s 3ms/step - loss: 88.6289 - val_loss: 33.2840 - lr: 2.0000e-05\n",
      "Epoch 15/200\n",
      "29/29 [==============================] - 0s 3ms/step - loss: 13.8740 - val_loss: 7.0516 - lr: 2.0000e-06\n",
      "Epoch 16/200\n",
      "29/29 [==============================] - 0s 3ms/step - loss: 5.9894 - val_loss: 6.8677 - lr: 2.0000e-06\n",
      "Epoch 17/200\n",
      "29/29 [==============================] - 0s 3ms/step - loss: 4.2849 - val_loss: 3.3747 - lr: 2.0000e-06\n",
      "Epoch 18/200\n",
      "29/29 [==============================] - 0s 3ms/step - loss: 3.3869 - val_loss: 3.5650 - lr: 2.0000e-06\n",
      "Epoch 19/200\n",
      "29/29 [==============================] - 0s 3ms/step - loss: 4.3799 - val_loss: 5.4575 - lr: 2.0000e-06\n",
      "Epoch 20/200\n",
      "29/29 [==============================] - 0s 4ms/step - loss: 4.1811 - val_loss: 5.3560 - lr: 2.0000e-06\n",
      "Epoch 21/200\n",
      "29/29 [==============================] - 0s 3ms/step - loss: 3.4500 - val_loss: 4.2302 - lr: 2.0000e-06\n",
      "Epoch 22/200\n",
      "29/29 [==============================] - 0s 3ms/step - loss: 3.2244 - val_loss: 3.3338 - lr: 2.0000e-06\n",
      "Epoch 23/200\n",
      "29/29 [==============================] - 0s 3ms/step - loss: 5.7277 - val_loss: 7.2163 - lr: 2.0000e-06\n",
      "Epoch 24/200\n",
      "29/29 [==============================] - 0s 3ms/step - loss: 4.4805 - val_loss: 5.3201 - lr: 2.0000e-06\n",
      "Epoch 25/200\n",
      "29/29 [==============================] - 0s 4ms/step - loss: 3.5276 - val_loss: 7.7366 - lr: 2.0000e-06\n",
      "Epoch 26/200\n",
      "29/29 [==============================] - 0s 3ms/step - loss: 4.4191 - val_loss: 5.5871 - lr: 2.0000e-06\n",
      "Epoch 27/200\n",
      "29/29 [==============================] - 0s 3ms/step - loss: 7.3815 - val_loss: 13.1994 - lr: 2.0000e-06\n",
      "Epoch 28/200\n",
      "29/29 [==============================] - 0s 3ms/step - loss: 5.0514 - val_loss: 3.8604 - lr: 2.0000e-07\n",
      "Epoch 29/200\n",
      "29/29 [==============================] - 0s 3ms/step - loss: 3.1500 - val_loss: 3.3221 - lr: 2.0000e-07\n",
      "Epoch 30/200\n",
      "29/29 [==============================] - 0s 3ms/step - loss: 2.8321 - val_loss: 3.4371 - lr: 2.0000e-07\n",
      "Epoch 31/200\n",
      "29/29 [==============================] - 0s 3ms/step - loss: 2.7319 - val_loss: 3.5639 - lr: 2.0000e-07\n",
      "Epoch 32/200\n",
      "29/29 [==============================] - 0s 4ms/step - loss: 2.7003 - val_loss: 3.3840 - lr: 2.0000e-07\n",
      "Epoch 33/200\n",
      "29/29 [==============================] - 0s 4ms/step - loss: 2.7436 - val_loss: 4.4909 - lr: 2.0000e-07\n",
      "Epoch 34/200\n",
      "29/29 [==============================] - 0s 4ms/step - loss: 2.8992 - val_loss: 3.4502 - lr: 2.0000e-07\n",
      "Epoch 35/200\n",
      "29/29 [==============================] - 0s 8ms/step - loss: 2.6484 - val_loss: 3.3275 - lr: 2.0000e-08\n",
      "Epoch 36/200\n",
      "29/29 [==============================] - 0s 4ms/step - loss: 2.6349 - val_loss: 3.3630 - lr: 2.0000e-08\n",
      "Epoch 37/200\n",
      "29/29 [==============================] - 0s 3ms/step - loss: 2.6338 - val_loss: 3.3511 - lr: 2.0000e-08\n",
      "Epoch 38/200\n",
      "29/29 [==============================] - 0s 3ms/step - loss: 2.6323 - val_loss: 3.3468 - lr: 2.0000e-08\n",
      "Epoch 39/200\n",
      "29/29 [==============================] - 0s 4ms/step - loss: 2.6370 - val_loss: 3.3262 - lr: 2.0000e-08\n",
      "Epoch 39: early stopping\n"
     ]
    }
   ],
   "source": [
    "history = model.fit(\n",
    "    xtrain,\n",
    "    ytrain,\n",
    "    epochs=200,\n",
    "    callbacks = [tf.keras.callbacks.EarlyStopping(monitor='val_loss',verbose=2, min_delta=0.001, patience=10),\n",
    "                 tf.keras.callbacks.ReduceLROnPlateau(monitor='val_loss', patience=5)],\n",
    "    validation_data=(xtest, ytest)\n",
    ")"
   ]
  },
  {
   "cell_type": "code",
   "execution_count": 11,
   "id": "45d8606f-8a51-47cb-8a07-e922c9a313d3",
   "metadata": {
    "tags": []
   },
   "outputs": [
    {
     "data": {
      "image/png": "[encoded data removed]",
      "text/plain": [
       "<Figure size 1200x400 with 1 Axes>"
      ]
     },
     "metadata": {},
     "output_type": "display_data"
    }
   ],
   "source": [
    "fig, ax = plt.subplots(figsize=(12,4))\n",
    "ax.plot(range(len(history.history['loss'])), history.history['loss'], label='train loss')\n",
    "ax.plot(range(len(history.history['val_loss'])), history.history['val_loss'], label='train loss')\n",
    "ax.legend()\n",
    "plt.ylabel(\"loss\")\n",
    "plt.title('Loss at Training')\n",
    "plt.show()"
   ]
  }
 ],
 "metadata": {
  "kernelspec": {
   "display_name": "Python 3 (ipykernel)",
   "language": "python",
   "name": "python3"
  },
  "language_info": {
   "codemirror_mode": {
    "name": "ipython",
    "version": 3
   },
   "file_extension": ".py",
   "mimetype": "text/x-python",
   "name": "python",
   "nbconvert_exporter": "python",
   "pygments_lexer": "ipython3",
   "version": "3.11.2"
  }
 },
 "nbformat": 4,
 "nbformat_minor": 5
}
