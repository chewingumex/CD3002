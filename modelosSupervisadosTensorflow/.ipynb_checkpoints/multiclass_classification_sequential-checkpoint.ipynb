{
 "cells": [
  {
   "cell_type": "code",
   "execution_count": 1,
   "id": "7bb31329-e552-4374-8d66-1a03983d5293",
   "metadata": {
    "tags": []
   },
   "outputs": [
    {
     "name": "stderr",
     "output_type": "stream",
     "text": [
      "2024-04-04 17:35:38.905568: I tensorflow/core/platform/cpu_feature_guard.cc:182] This TensorFlow binary is optimized to use available CPU instructions in performance-critical operations.\n",
      "To enable the following instructions: AVX2 AVX512F AVX512_VNNI FMA, in other operations, rebuild TensorFlow with the appropriate compiler flags.\n"
     ]
    }
   ],
   "source": [
    "import pandas as pd\n",
    "import numpy as np\n",
    "import tensorflow as tf\n",
    "from sklearn.model_selection import train_test_split\n",
    "import matplotlib.pyplot as plt"
   ]
  },
  {
   "cell_type": "code",
   "execution_count": 2,
   "id": "6186c98a-10a7-4e58-b083-1469ffe7202d",
   "metadata": {
    "tags": []
   },
   "outputs": [],
   "source": [
    "df = pd.read_csv('./../ejerciciosModelosSupervisados/tasa_conversion/datos/KAG_conversion_data.csv')"
   ]
  },
  {
   "cell_type": "code",
   "execution_count": 3,
   "id": "e5ec590c-aea8-4152-af7a-ab3cce387146",
   "metadata": {},
   "outputs": [],
   "source": [
    "# pre-process datos (si es necesario)\n",
    "\n",
    "df['age'] = df.age.replace({'30-34':1,'35-39':2,'40-44':3,'45-49':4})\n",
    "df = df.drop(['ad_id','Approved_Conversion','fb_campaign_id'], axis = 1)\n",
    "df['Spent'] = df.Spent.astype('float')\n",
    "df['xyz_campaign_id'] = df.xyz_campaign_id.astype(str)\n",
    "df = pd.get_dummies(df, drop_first=True)"
   ]
  },
  {
   "cell_type": "code",
   "execution_count": 5,
   "id": "660323d4-6de5-4426-8f36-d4e9d9f63cfa",
   "metadata": {},
   "outputs": [],
   "source": [
    "yvar = df.Total_Conversion\n",
    "xvars = df[[x for x in df.columns if x != 'Total_Conversion']]"
   ]
  },
  {
   "cell_type": "code",
   "execution_count": 6,
   "id": "75b98d00-ae04-4ec5-af3a-032141cae844",
   "metadata": {
    "tags": []
   },
   "outputs": [],
   "source": [
    "# dividir train / test para variables independientes (x)  y dependiente (y)\n",
    "xtrain, xtest, ytrain, ytest = train_test_split(xvars, yvar, train_size = 0.80, random_state = 2)"
   ]
  },
  {
   "cell_type": "code",
   "execution_count": 7,
   "id": "a07f82a3-8c64-4ae0-9a17-369a398bd0e5",
   "metadata": {
    "tags": []
   },
   "outputs": [],
   "source": [
    "# convertir datos en numpy arrays\n",
    "\n",
    "xtrain = np.array(xtrain)\n",
    "xtest= np.array(xtest)\n",
    "ytrain = np.array(ytrain).squeeze()\n",
    "ytest = np.array(ytest).squeeze()"
   ]
  },
  {
   "cell_type": "code",
   "execution_count": 8,
   "id": "f0d8e04e-127a-4cf0-8caa-756ca7a73768",
   "metadata": {
    "tags": []
   },
   "outputs": [],
   "source": [
    "# regression network / sequential API\n",
    "\n",
    "model = tf.keras.Sequential([\n",
    "    \n",
    "    tf.keras.layers.Dense(256, kernel_regularizer='l2', activation='relu'),\n",
    "    tf.keras.layers.Dense(128, activation='relu'),\n",
    "    tf.keras.layers.Dense(1)\n",
    "])\n",
    "\n",
    "optimizer = tf.keras.optimizers.Adam(learning_rate = 0.0002)\n",
    "\n",
    "model.compile(optimizer=optimizer, loss='mae')"
   ]
  },
  {
   "cell_type": "code",
   "execution_count": 9,
   "id": "2bf37bd1-704a-48f9-b12e-b89ce4f4b255",
   "metadata": {
    "tags": []
   },
   "outputs": [
    {
     "name": "stdout",
     "output_type": "stream",
     "text": [
      "Epoch 1/200\n",
      "29/29 [==============================] - 1s 8ms/step - loss: 6344.9170 - val_loss: 682.3538 - lr: 2.0000e-04\n",
      "Epoch 2/200\n",
      "29/29 [==============================] - 0s 3ms/step - loss: 272.1925 - val_loss: 54.8865 - lr: 2.0000e-04\n",
      "Epoch 3/200\n",
      "29/29 [==============================] - 0s 3ms/step - loss: 239.0731 - val_loss: 161.6817 - lr: 2.0000e-04\n",
      "Epoch 4/200\n",
      "29/29 [==============================] - 0s 3ms/step - loss: 516.2729 - val_loss: 32.7498 - lr: 2.0000e-04\n",
      "Epoch 5/200\n",
      "29/29 [==============================] - 0s 3ms/step - loss: 245.1821 - val_loss: 351.6325 - lr: 2.0000e-04\n",
      "Epoch 6/200\n",
      "29/29 [==============================] - 0s 3ms/step - loss: 243.0152 - val_loss: 29.5018 - lr: 2.0000e-04\n",
      "Epoch 7/200\n",
      "29/29 [==============================] - 0s 3ms/step - loss: 264.1056 - val_loss: 126.5516 - lr: 2.0000e-04\n",
      "Epoch 8/200\n",
      "29/29 [==============================] - 0s 3ms/step - loss: 210.0615 - val_loss: 520.2263 - lr: 2.0000e-04\n",
      "Epoch 9/200\n",
      "29/29 [==============================] - 0s 3ms/step - loss: 459.1076 - val_loss: 230.7801 - lr: 2.0000e-04\n",
      "Epoch 10/200\n",
      "29/29 [==============================] - 0s 3ms/step - loss: 153.2174 - val_loss: 37.1326 - lr: 2.0000e-04\n",
      "Epoch 11/200\n",
      "29/29 [==============================] - 0s 2ms/step - loss: 429.4215 - val_loss: 27.7393 - lr: 2.0000e-04\n",
      "Epoch 12/200\n",
      "29/29 [==============================] - 0s 3ms/step - loss: 290.1710 - val_loss: 842.7363 - lr: 2.0000e-04\n",
      "Epoch 13/200\n",
      "29/29 [==============================] - 0s 3ms/step - loss: 516.7494 - val_loss: 417.5954 - lr: 2.0000e-04\n",
      "Epoch 14/200\n",
      "29/29 [==============================] - 0s 3ms/step - loss: 317.5999 - val_loss: 184.5861 - lr: 2.0000e-04\n",
      "Epoch 15/200\n",
      "29/29 [==============================] - 0s 2ms/step - loss: 185.4591 - val_loss: 583.8709 - lr: 2.0000e-04\n",
      "Epoch 16/200\n",
      "29/29 [==============================] - 0s 3ms/step - loss: 669.6791 - val_loss: 935.5250 - lr: 2.0000e-04\n",
      "Epoch 17/200\n",
      "29/29 [==============================] - 0s 3ms/step - loss: 259.0461 - val_loss: 101.7746 - lr: 2.0000e-05\n",
      "Epoch 18/200\n",
      "29/29 [==============================] - 0s 7ms/step - loss: 53.1447 - val_loss: 69.0076 - lr: 2.0000e-05\n",
      "Epoch 19/200\n",
      "29/29 [==============================] - 0s 3ms/step - loss: 34.8815 - val_loss: 9.4177 - lr: 2.0000e-05\n",
      "Epoch 20/200\n",
      "29/29 [==============================] - 0s 3ms/step - loss: 36.1767 - val_loss: 33.1552 - lr: 2.0000e-05\n",
      "Epoch 21/200\n",
      "29/29 [==============================] - 0s 3ms/step - loss: 16.9556 - val_loss: 13.4685 - lr: 2.0000e-05\n",
      "Epoch 22/200\n",
      "29/29 [==============================] - 0s 3ms/step - loss: 17.5522 - val_loss: 39.4119 - lr: 2.0000e-05\n",
      "Epoch 23/200\n",
      "29/29 [==============================] - 0s 3ms/step - loss: 23.7129 - val_loss: 88.7286 - lr: 2.0000e-05\n",
      "Epoch 24/200\n",
      "29/29 [==============================] - 0s 3ms/step - loss: 20.2672 - val_loss: 11.9292 - lr: 2.0000e-05\n",
      "Epoch 25/200\n",
      "29/29 [==============================] - 0s 3ms/step - loss: 3.1682 - val_loss: 2.6825 - lr: 2.0000e-06\n",
      "Epoch 26/200\n",
      "29/29 [==============================] - 0s 3ms/step - loss: 1.6731 - val_loss: 1.9610 - lr: 2.0000e-06\n",
      "Epoch 27/200\n",
      "29/29 [==============================] - 0s 3ms/step - loss: 2.0625 - val_loss: 3.4880 - lr: 2.0000e-06\n",
      "Epoch 28/200\n",
      "29/29 [==============================] - 0s 3ms/step - loss: 2.6295 - val_loss: 4.6923 - lr: 2.0000e-06\n",
      "Epoch 29/200\n",
      "29/29 [==============================] - 0s 3ms/step - loss: 2.1821 - val_loss: 1.9667 - lr: 2.0000e-06\n",
      "Epoch 30/200\n",
      "29/29 [==============================] - 0s 3ms/step - loss: 1.6637 - val_loss: 1.8967 - lr: 2.0000e-06\n",
      "Epoch 31/200\n",
      "29/29 [==============================] - 0s 3ms/step - loss: 2.4507 - val_loss: 2.6148 - lr: 2.0000e-06\n",
      "Epoch 32/200\n",
      "29/29 [==============================] - 0s 3ms/step - loss: 1.9005 - val_loss: 3.5649 - lr: 2.0000e-06\n",
      "Epoch 33/200\n",
      "29/29 [==============================] - 0s 3ms/step - loss: 2.2167 - val_loss: 3.4556 - lr: 2.0000e-06\n",
      "Epoch 34/200\n",
      "29/29 [==============================] - 0s 4ms/step - loss: 2.2604 - val_loss: 3.7143 - lr: 2.0000e-06\n",
      "Epoch 35/200\n",
      "29/29 [==============================] - 0s 3ms/step - loss: 2.0646 - val_loss: 2.8599 - lr: 2.0000e-06\n",
      "Epoch 36/200\n",
      "29/29 [==============================] - 0s 3ms/step - loss: 1.6993 - val_loss: 1.9234 - lr: 2.0000e-07\n",
      "Epoch 37/200\n",
      "29/29 [==============================] - 0s 3ms/step - loss: 1.5285 - val_loss: 1.8740 - lr: 2.0000e-07\n",
      "Epoch 38/200\n",
      "29/29 [==============================] - 0s 3ms/step - loss: 1.5466 - val_loss: 1.9469 - lr: 2.0000e-07\n",
      "Epoch 39/200\n",
      "29/29 [==============================] - 0s 3ms/step - loss: 1.6372 - val_loss: 1.8708 - lr: 2.0000e-07\n",
      "Epoch 40/200\n",
      "29/29 [==============================] - 0s 3ms/step - loss: 1.6110 - val_loss: 1.8705 - lr: 2.0000e-07\n",
      "Epoch 41/200\n",
      "29/29 [==============================] - 0s 3ms/step - loss: 1.5446 - val_loss: 2.0350 - lr: 2.0000e-07\n",
      "Epoch 42/200\n",
      "29/29 [==============================] - 0s 3ms/step - loss: 1.5617 - val_loss: 1.9398 - lr: 2.0000e-07\n",
      "Epoch 43/200\n",
      "29/29 [==============================] - 0s 3ms/step - loss: 1.5958 - val_loss: 2.5087 - lr: 2.0000e-07\n",
      "Epoch 44/200\n",
      "29/29 [==============================] - 0s 3ms/step - loss: 1.6450 - val_loss: 1.9268 - lr: 2.0000e-07\n",
      "Epoch 45/200\n",
      "29/29 [==============================] - 0s 3ms/step - loss: 1.5104 - val_loss: 1.9247 - lr: 2.0000e-07\n",
      "Epoch 46/200\n",
      "29/29 [==============================] - 0s 3ms/step - loss: 1.4724 - val_loss: 1.9239 - lr: 2.0000e-08\n",
      "Epoch 47/200\n",
      "29/29 [==============================] - 0s 3ms/step - loss: 1.4656 - val_loss: 1.9193 - lr: 2.0000e-08\n",
      "Epoch 48/200\n",
      "29/29 [==============================] - 0s 3ms/step - loss: 1.4700 - val_loss: 1.9222 - lr: 2.0000e-08\n",
      "Epoch 49/200\n",
      "29/29 [==============================] - 0s 3ms/step - loss: 1.4701 - val_loss: 1.9260 - lr: 2.0000e-08\n",
      "Epoch 49: early stopping\n"
     ]
    }
   ],
   "source": [
    "history = model.fit(\n",
    "    xtrain,\n",
    "    ytrain,\n",
    "    epochs=200,\n",
    "    callbacks = [tf.keras.callbacks.EarlyStopping(monitor='val_loss',\n",
    "                                                  verbose=2, \n",
    "                                                  min_delta=0.001, \n",
    "                                                  patience=10),\n",
    "                 tf.keras.callbacks.ReduceLROnPlateau(monitor='val_loss', \n",
    "                                                      patience=5)],\n",
    "    validation_data=(xtest, ytest)\n",
    ")"
   ]
  },
  {
   "cell_type": "code",
   "execution_count": 10,
   "id": "45d8606f-8a51-47cb-8a07-e922c9a313d3",
   "metadata": {
    "tags": []
   },
   "outputs": [
    {
     "data": {
      "image/png": "[encoded data removed]",
      "text/plain": [
       "<Figure size 1200x400 with 1 Axes>"
      ]
     },
     "metadata": {},
     "output_type": "display_data"
    }
   ],
   "source": [
    "fig, ax = plt.subplots(figsize=(12,4))\n",
    "ax.plot(range(len(history.history['loss'])), history.history['loss'], label='train loss')\n",
    "ax.plot(range(len(history.history['val_loss'])), history.history['val_loss'], label='val loss')\n",
    "ax.legend()\n",
    "plt.ylabel(\"loss\")\n",
    "plt.title('Loss at Training')\n",
    "plt.show()"
   ]
  },
  {
   "cell_type": "code",
   "execution_count": null,
   "id": "9395db32-6259-4a8a-8af0-3564641ac9c9",
   "metadata": {},
   "outputs": [],
   "source": []
  }
 ],
 "metadata": {
  "kernelspec": {
   "display_name": "Python 3 (ipykernel)",
   "language": "python",
   "name": "python3"
  },
  "language_info": {
   "codemirror_mode": {
    "name": "ipython",
    "version": 3
   },
   "file_extension": ".py",
   "mimetype": "text/x-python",
   "name": "python",
   "nbconvert_exporter": "python",
   "pygments_lexer": "ipython3",
   "version": "3.11.2"
  }
 },
 "nbformat": 4,
 "nbformat_minor": 5
}
