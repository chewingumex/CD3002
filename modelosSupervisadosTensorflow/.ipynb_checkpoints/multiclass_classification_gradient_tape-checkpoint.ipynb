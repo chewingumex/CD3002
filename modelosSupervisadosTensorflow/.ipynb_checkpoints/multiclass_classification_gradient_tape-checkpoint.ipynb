{
 "cells": [
  {
   "cell_type": "code",
   "execution_count": 1,
   "id": "7bb31329-e552-4374-8d66-1a03983d5293",
   "metadata": {
    "tags": []
   },
   "outputs": [
    {
     "name": "stderr",
     "output_type": "stream",
     "text": [
      "2024-04-04 18:06:43.722985: I tensorflow/core/platform/cpu_feature_guard.cc:182] This TensorFlow binary is optimized to use available CPU instructions in performance-critical operations.\n",
      "To enable the following instructions: AVX2 AVX512F AVX512_VNNI FMA, in other operations, rebuild TensorFlow with the appropriate compiler flags.\n"
     ]
    }
   ],
   "source": [
    "import pandas as pd\n",
    "import numpy as np\n",
    "import tensorflow as tf\n",
    "from sklearn.model_selection import train_test_split\n",
    "import matplotlib.pyplot as plt\n",
    "from tensorflow.keras.layers import Input, Dense\n",
    "from tensorflow.keras import Model"
   ]
  },
  {
   "cell_type": "code",
   "execution_count": 2,
   "id": "6186c98a-10a7-4e58-b083-1469ffe7202d",
   "metadata": {
    "tags": []
   },
   "outputs": [],
   "source": [
    "df = pd.read_csv('./../ejerciciosModelosSupervisados/clasificacion_profesion/datos/train.csv')"
   ]
  },
  {
   "cell_type": "code",
   "execution_count": 3,
   "id": "e5ec590c-aea8-4152-af7a-ab3cce387146",
   "metadata": {},
   "outputs": [],
   "source": [
    "# pre-process datos (si es necesario)\n",
    "\n",
    "df= df.dropna(subset=['Work_Experience','Profession','Family_Size','Graduated_Yes'])\n",
    "\n",
    "df['Profession'] = df['Profession'].replace({\n",
    "    'Healthcare':0, \n",
    "    'Engineer':1, \n",
    "    'Lawyer':2, \n",
    "    'Entertainment':3, \n",
    "    'Artist':4,\n",
    "    'Executive':5, \n",
    "    'Doctor':6, \n",
    "    'Homemaker':7, \n",
    "    'Marketing':8\n",
    "})\n",
    "\n",
    "df = pd.get_dummies(df)"
   ]
  },
  {
   "cell_type": "code",
   "execution_count": 4,
   "id": "660323d4-6de5-4426-8f36-d4e9d9f63cfa",
   "metadata": {},
   "outputs": [],
   "source": [
    "yvar = df.Profession\n",
    "xvars = df[[x for x in df.columns if x != 'Profession']]"
   ]
  },
  {
   "cell_type": "code",
   "execution_count": 5,
   "id": "75b98d00-ae04-4ec5-af3a-032141cae844",
   "metadata": {
    "tags": []
   },
   "outputs": [],
   "source": [
    "# dividir train / test para variables independientes (x)  y dependiente (y)\n",
    "xtrain, xtest, ytrain, ytest = train_test_split(xvars, yvar, train_size = 0.80, random_state = 2)"
   ]
  },
  {
   "cell_type": "code",
   "execution_count": 6,
   "id": "a07f82a3-8c64-4ae0-9a17-369a398bd0e5",
   "metadata": {
    "tags": []
   },
   "outputs": [],
   "source": [
    "# convertir datos en numpy arrays\n",
    "\n",
    "xtrain = np.array(xtrain)\n",
    "xtest= np.array(xtest)\n",
    "ytrain = np.array(ytrain)\n",
    "ytest = np.array(ytest)"
   ]
  },
  {
   "cell_type": "code",
   "execution_count": 7,
   "id": "a6c88697-3485-437b-b9b1-9fb078f8bf07",
   "metadata": {
    "tags": []
   },
   "outputs": [],
   "source": [
    "# arquitectura del modelo utilizando variables - FUNCTIONAL API\n",
    "\n",
    "# input\n",
    "model_input = Input(shape=(xtrain.shape[1],))\n",
    "# primera capa\n",
    "layer_1 = Dense(256, kernel_regularizer='l2', activation='relu')(model_input)\n",
    "#segunda capa\n",
    "layer_2 = Dense(128, kernel_regularizer='l2', activation='relu')(layer_1)\n",
    "# predicción\n",
    "model_output = Dense(9, activation='softmax')(layer_2)\n",
    "# entrada y salida\n",
    "model = Model(inputs=model_input, \n",
    "              outputs=model_output)"
   ]
  },
  {
   "cell_type": "code",
   "execution_count": 8,
   "id": "67dec206-9c3a-4559-b31c-6f0a0ebedfca",
   "metadata": {
    "tags": []
   },
   "outputs": [
    {
     "name": "stdout",
     "output_type": "stream",
     "text": [
      "epoch number: 1\n",
      "train error: 6.584392547607422, test error: 6.696893692016602\n",
      "epoch number: 2\n",
      "train error: 5.91874885559082, test error: 6.0239105224609375\n",
      "epoch number: 3\n",
      "train error: 5.350470542907715, test error: 5.4485344886779785\n",
      "epoch number: 4\n",
      "train error: 4.868042945861816, test error: 4.959479331970215\n",
      "epoch number: 5\n",
      "train error: 4.444605350494385, test error: 4.531658172607422\n",
      "epoch number: 6\n",
      "train error: 4.057406902313232, test error: 4.140682220458984\n",
      "epoch number: 7\n",
      "train error: 3.69779896736145, test error: 3.7775824069976807\n",
      "epoch number: 8\n",
      "train error: 3.367008924484253, test error: 3.4434144496917725\n",
      "epoch number: 9\n",
      "train error: 3.0710582733154297, test error: 3.1441986560821533\n",
      "epoch number: 10\n",
      "train error: 2.81795334815979, test error: 2.888397455215454\n",
      "epoch number: 11\n",
      "train error: 2.6150200366973877, test error: 2.6832573413848877\n",
      "epoch number: 12\n",
      "train error: 2.4672839641571045, test error: 2.534299612045288\n",
      "epoch number: 13\n",
      "train error: 2.3752050399780273, test error: 2.4420809745788574\n",
      "epoch number: 14\n",
      "train error: 2.328092336654663, test error: 2.3951222896575928\n",
      "epoch number: 15\n",
      "train error: 2.306326389312744, test error: 2.3727951049804688\n",
      "epoch number: 16\n",
      "train error: 2.2909908294677734, test error: 2.3552637100219727\n",
      "epoch number: 17\n",
      "train error: 2.269324779510498, test error: 2.329812526702881\n",
      "epoch number: 18\n",
      "train error: 2.2363545894622803, test error: 2.2916245460510254\n",
      "epoch number: 19\n",
      "train error: 2.193445920944214, test error: 2.2423102855682373\n",
      "epoch number: 20\n",
      "train error: 2.1458487510681152, test error: 2.1874215602874756\n",
      "epoch number: 21\n",
      "train error: 2.1011171340942383, test error: 2.1349740028381348\n",
      "epoch number: 22\n",
      "train error: 2.067202091217041, test error: 2.093345880508423\n",
      "epoch number: 23\n",
      "train error: 2.0496668815612793, test error: 2.0685901641845703\n",
      "epoch number: 24\n",
      "train error: 2.0488996505737305, test error: 2.061864137649536\n",
      "epoch number: 25\n",
      "train error: 2.059469699859619, test error: 2.068274736404419\n",
      "epoch number: 26\n",
      "train error: 2.07244873046875, test error: 2.078962802886963\n",
      "epoch number: 27\n",
      "train error: 2.079190254211426, test error: 2.0852222442626953\n",
      "epoch number: 28\n",
      "train error: 2.0747382640838623, test error: 2.0817065238952637\n",
      "epoch number: 29\n",
      "train error: 2.058384418487549, test error: 2.0671756267547607\n",
      "epoch number: 30\n",
      "train error: 2.0334019660949707, test error: 2.044802665710449\n",
      "epoch number: 31\n",
      "train error: 2.0051774978637695, test error: 2.019787311553955\n",
      "epoch number: 32\n",
      "train error: 1.9791620969772339, test error: 1.9976129531860352\n",
      "epoch number: 33\n",
      "train error: 1.9594683647155762, test error: 1.9821245670318604\n",
      "epoch number: 34\n",
      "train error: 1.9477521181106567, test error: 1.9747980833053589\n",
      "epoch number: 35\n",
      "train error: 1.9432015419006348, test error: 1.9744553565979004\n",
      "epoch number: 36\n",
      "train error: 1.9435527324676514, test error: 1.9784129858016968\n",
      "epoch number: 37\n",
      "train error: 1.9464592933654785, test error: 1.9840762615203857\n",
      "epoch number: 38\n",
      "train error: 1.9490463733673096, test error: 1.988467812538147\n",
      "epoch number: 39\n",
      "train error: 1.9476135969161987, test error: 1.987727165222168\n",
      "epoch number: 40\n",
      "train error: 1.94187593460083, test error: 1.9816423654556274\n",
      "epoch number: 41\n",
      "train error: 1.9332071542739868, test error: 1.971648931503296\n",
      "epoch number: 42\n",
      "train error: 1.9235776662826538, test error: 1.959944248199463\n",
      "epoch number: 43\n",
      "train error: 1.9145865440368652, test error: 1.9486504793167114\n",
      "epoch number: 44\n",
      "train error: 1.9071195125579834, test error: 1.938554048538208\n",
      "epoch number: 45\n",
      "train error: 1.901303768157959, test error: 1.9301422834396362\n",
      "epoch number: 46\n",
      "train error: 1.8970187902450562, test error: 1.9231288433074951\n",
      "epoch number: 47\n",
      "train error: 1.893905520439148, test error: 1.9173901081085205\n",
      "epoch number: 48\n",
      "train error: 1.891363501548767, test error: 1.9125754833221436\n",
      "epoch number: 49\n",
      "train error: 1.8878370523452759, test error: 1.9071407318115234\n",
      "epoch number: 50\n",
      "train error: 1.8827279806137085, test error: 1.9005002975463867\n"
     ]
    }
   ],
   "source": [
    "error_train_history = []\n",
    "error_test_history = []\n",
    "\n",
    "num_epochs = 50\n",
    "\n",
    "optimizer = tf.keras.optimizers.Adam(learning_rate = 0.0002)\n",
    "\n",
    "sparse_categorical_crossentropy = tf.keras.losses.SparseCategoricalCrossentropy()\n",
    "\n",
    "for i in range(num_epochs):\n",
    "    \n",
    "    print('epoch number: {i}'.format(i=i+1))\n",
    "    \n",
    "    with tf.GradientTape() as t:\n",
    "        \n",
    "        # aplicar coeficientes a variables y predecir la y\n",
    "        ytrain_hat = model(xtrain)\n",
    "        ytest_hat = model(xtest)\n",
    "        # calcular el error (que buscamos reducir)\n",
    "        error_train = sparse_categorical_crossentropy(tf.expand_dims(ytrain, 1), ytrain_hat)\n",
    "        error_test = sparse_categorical_crossentropy(tf.expand_dims(ytest, 1), ytest_hat)\n",
    "        # guardar el error para visualizar luego\n",
    "        error_train_history.append(error_train.numpy())\n",
    "        error_test_history.append(error_test.numpy())\n",
    "    \n",
    "    # calcular los gradientes de cada uno de los coeficientes con respecto al error    \n",
    "    gradients = t.gradient(error_train, model.trainable_weights)\n",
    "    # restar los gradientes * learning_rate a cada uno de los coeficientes\n",
    "    optimizer.apply_gradients(zip(gradients, model.trainable_weights))     \n",
    "    print('train error: {error_train}, test error: {error_test}'.format(error_train=error_train,error_test=error_test))"
   ]
  },
  {
   "cell_type": "code",
   "execution_count": 9,
   "id": "45d8606f-8a51-47cb-8a07-e922c9a313d3",
   "metadata": {
    "tags": []
   },
   "outputs": [
    {
     "data": {
      "image/png": "[encoded data removed]",
      "text/plain": [
       "<Figure size 1200x400 with 1 Axes>"
      ]
     },
     "metadata": {},
     "output_type": "display_data"
    }
   ],
   "source": [
    "fig, ax = plt.subplots(figsize=(12,4))\n",
    "ax.plot(range(len(error_train_history)), error_train_history, label='train loss')\n",
    "ax.plot(range(len(error_test_history)), error_test_history, label='train loss')\n",
    "ax.legend()\n",
    "plt.ylabel(\"loss\")\n",
    "plt.title('Error at Training')\n",
    "plt.show()"
   ]
  }
 ],
 "metadata": {
  "kernelspec": {
   "display_name": "Python 3 (ipykernel)",
   "language": "python",
   "name": "python3"
  },
  "language_info": {
   "codemirror_mode": {
    "name": "ipython",
    "version": 3
   },
   "file_extension": ".py",
   "mimetype": "text/x-python",
   "name": "python",
   "nbconvert_exporter": "python",
   "pygments_lexer": "ipython3",
   "version": "3.11.2"
  }
 },
 "nbformat": 4,
 "nbformat_minor": 5
}
