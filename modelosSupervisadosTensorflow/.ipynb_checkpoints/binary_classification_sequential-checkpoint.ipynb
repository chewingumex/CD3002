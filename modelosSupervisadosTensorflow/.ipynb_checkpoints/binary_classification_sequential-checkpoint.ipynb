{
 "cells": [
  {
   "cell_type": "code",
   "execution_count": 1,
   "id": "7bb31329-e552-4374-8d66-1a03983d5293",
   "metadata": {
    "tags": []
   },
   "outputs": [
    {
     "name": "stderr",
     "output_type": "stream",
     "text": [
      "2024-04-01 21:17:25.847708: I tensorflow/core/platform/cpu_feature_guard.cc:182] This TensorFlow binary is optimized to use available CPU instructions in performance-critical operations.\n",
      "To enable the following instructions: AVX2 AVX512F AVX512_VNNI FMA, in other operations, rebuild TensorFlow with the appropriate compiler flags.\n"
     ]
    }
   ],
   "source": [
    "import pandas as pd\n",
    "import numpy as np\n",
    "import tensorflow as tf\n",
    "from sklearn.model_selection import train_test_split\n",
    "import matplotlib.pyplot as plt"
   ]
  },
  {
   "cell_type": "code",
   "execution_count": 2,
   "id": "6186c98a-10a7-4e58-b083-1469ffe7202d",
   "metadata": {
    "tags": []
   },
   "outputs": [],
   "source": [
    "df = pd.read_csv('./../ejerciciosModelosSupervisados/deteccion_transacciones_fraudulentas/datos/data_fraude.csv')"
   ]
  },
  {
   "cell_type": "code",
   "execution_count": 3,
   "id": "e5ec590c-aea8-4152-af7a-ab3cce387146",
   "metadata": {},
   "outputs": [],
   "source": [
    "# pre-process datos (si es necesario)\n",
    "df = df.rename(columns={'0.1':'Class'}).drop('Unnamed: 0',axis=1)"
   ]
  },
  {
   "cell_type": "code",
   "execution_count": 4,
   "id": "660323d4-6de5-4426-8f36-d4e9d9f63cfa",
   "metadata": {},
   "outputs": [],
   "source": [
    "yvar = df.Class\n",
    "xvars = df[[x for x in df.columns if x != 'Class']]"
   ]
  },
  {
   "cell_type": "code",
   "execution_count": 5,
   "id": "75b98d00-ae04-4ec5-af3a-032141cae844",
   "metadata": {
    "tags": []
   },
   "outputs": [],
   "source": [
    "# dividir train / test para variables independientes (x)  y dependiente (y)\n",
    "xtrain, xtest, ytrain, ytest = train_test_split(xvars, yvar, train_size = 0.80, random_state = 2)"
   ]
  },
  {
   "cell_type": "code",
   "execution_count": 6,
   "id": "a07f82a3-8c64-4ae0-9a17-369a398bd0e5",
   "metadata": {
    "tags": []
   },
   "outputs": [],
   "source": [
    "# convertir datos en numpy arrays\n",
    "\n",
    "xtrain = np.array(xtrain)\n",
    "xtest= np.array(xtest)\n",
    "ytrain = np.array(ytrain).squeeze()\n",
    "ytest = np.array(ytest).squeeze()"
   ]
  },
  {
   "cell_type": "code",
   "execution_count": 29,
   "id": "f0d8e04e-127a-4cf0-8caa-756ca7a73768",
   "metadata": {
    "tags": []
   },
   "outputs": [],
   "source": [
    "# regression network / sequential API\n",
    "\n",
    "model = tf.keras.Sequential([\n",
    "    \n",
    "    tf.keras.layers.Dense(256, kernel_regularizer='l2', activation='relu'),\n",
    "    tf.keras.layers.Dense(128, activation='relu'),\n",
    "    tf.keras.layers.Dense(1, activation='sigmoid')\n",
    "])\n",
    "\n",
    "optimizer = tf.keras.optimizers.Adam(learning_rate = 0.0002)\n",
    "\n",
    "model.compile(optimizer=optimizer, loss='binary_crossentropy')"
   ]
  },
  {
   "cell_type": "code",
   "execution_count": 30,
   "id": "2bf37bd1-704a-48f9-b12e-b89ce4f4b255",
   "metadata": {
    "tags": []
   },
   "outputs": [
    {
     "name": "stdout",
     "output_type": "stream",
     "text": [
      "Epoch 1/200\n",
      "113/113 [==============================] - 1s 3ms/step - loss: 0.6018 - val_loss: 0.4462 - lr: 2.0000e-04\n",
      "Epoch 2/200\n",
      "113/113 [==============================] - 0s 2ms/step - loss: 0.4139 - val_loss: 0.3476 - lr: 2.0000e-04\n",
      "Epoch 3/200\n",
      "113/113 [==============================] - 0s 2ms/step - loss: 0.3361 - val_loss: 0.2882 - lr: 2.0000e-04\n",
      "Epoch 4/200\n",
      "113/113 [==============================] - 0s 2ms/step - loss: 0.2826 - val_loss: 0.2440 - lr: 2.0000e-04\n",
      "Epoch 5/200\n",
      "113/113 [==============================] - 0s 2ms/step - loss: 0.2420 - val_loss: 0.2110 - lr: 2.0000e-04\n",
      "Epoch 6/200\n",
      "113/113 [==============================] - 0s 2ms/step - loss: 0.2096 - val_loss: 0.1858 - lr: 2.0000e-04\n",
      "Epoch 7/200\n",
      "113/113 [==============================] - 0s 2ms/step - loss: 0.1842 - val_loss: 0.1655 - lr: 2.0000e-04\n",
      "Epoch 8/200\n",
      "113/113 [==============================] - 0s 2ms/step - loss: 0.1644 - val_loss: 0.1504 - lr: 2.0000e-04\n",
      "Epoch 9/200\n",
      "113/113 [==============================] - 0s 2ms/step - loss: 0.1486 - val_loss: 0.1361 - lr: 2.0000e-04\n",
      "Epoch 10/200\n",
      "113/113 [==============================] - 0s 2ms/step - loss: 0.1345 - val_loss: 0.1266 - lr: 2.0000e-04\n",
      "Epoch 11/200\n",
      "113/113 [==============================] - 0s 2ms/step - loss: 0.1238 - val_loss: 0.1172 - lr: 2.0000e-04\n",
      "Epoch 12/200\n",
      "113/113 [==============================] - 0s 2ms/step - loss: 0.1143 - val_loss: 0.1098 - lr: 2.0000e-04\n",
      "Epoch 13/200\n",
      "113/113 [==============================] - 0s 2ms/step - loss: 0.1070 - val_loss: 0.1034 - lr: 2.0000e-04\n",
      "Epoch 14/200\n",
      "113/113 [==============================] - 0s 2ms/step - loss: 0.0997 - val_loss: 0.0963 - lr: 2.0000e-04\n",
      "Epoch 15/200\n",
      "113/113 [==============================] - 0s 2ms/step - loss: 0.0939 - val_loss: 0.0909 - lr: 2.0000e-04\n",
      "Epoch 16/200\n",
      "113/113 [==============================] - 0s 2ms/step - loss: 0.0886 - val_loss: 0.0875 - lr: 2.0000e-04\n",
      "Epoch 17/200\n",
      "113/113 [==============================] - 0s 2ms/step - loss: 0.0836 - val_loss: 0.0840 - lr: 2.0000e-04\n",
      "Epoch 18/200\n",
      "113/113 [==============================] - 0s 2ms/step - loss: 0.0792 - val_loss: 0.0826 - lr: 2.0000e-04\n",
      "Epoch 19/200\n",
      "113/113 [==============================] - 0s 2ms/step - loss: 0.0764 - val_loss: 0.0771 - lr: 2.0000e-04\n",
      "Epoch 20/200\n",
      "113/113 [==============================] - 0s 2ms/step - loss: 0.0751 - val_loss: 0.0783 - lr: 2.0000e-04\n",
      "Epoch 21/200\n",
      "113/113 [==============================] - 0s 2ms/step - loss: 0.0702 - val_loss: 0.0743 - lr: 2.0000e-04\n",
      "Epoch 22/200\n",
      "113/113 [==============================] - 0s 2ms/step - loss: 0.0663 - val_loss: 0.0715 - lr: 2.0000e-04\n",
      "Epoch 23/200\n",
      "113/113 [==============================] - 0s 2ms/step - loss: 0.0637 - val_loss: 0.0730 - lr: 2.0000e-04\n",
      "Epoch 24/200\n",
      "113/113 [==============================] - 0s 2ms/step - loss: 0.0631 - val_loss: 0.0690 - lr: 2.0000e-04\n",
      "Epoch 25/200\n",
      "113/113 [==============================] - 0s 2ms/step - loss: 0.0599 - val_loss: 0.0660 - lr: 2.0000e-04\n",
      "Epoch 26/200\n",
      "113/113 [==============================] - 0s 2ms/step - loss: 0.0573 - val_loss: 0.0643 - lr: 2.0000e-04\n",
      "Epoch 27/200\n",
      "113/113 [==============================] - 0s 2ms/step - loss: 0.0562 - val_loss: 0.0629 - lr: 2.0000e-04\n",
      "Epoch 28/200\n",
      "113/113 [==============================] - 0s 2ms/step - loss: 0.0547 - val_loss: 0.0621 - lr: 2.0000e-04\n",
      "Epoch 29/200\n",
      "113/113 [==============================] - 0s 2ms/step - loss: 0.0518 - val_loss: 0.0601 - lr: 2.0000e-04\n",
      "Epoch 30/200\n",
      "113/113 [==============================] - 0s 2ms/step - loss: 0.0502 - val_loss: 0.0599 - lr: 2.0000e-04\n",
      "Epoch 31/200\n",
      "113/113 [==============================] - 0s 2ms/step - loss: 0.0500 - val_loss: 0.0571 - lr: 2.0000e-04\n",
      "Epoch 32/200\n",
      "113/113 [==============================] - 0s 2ms/step - loss: 0.0473 - val_loss: 0.0560 - lr: 2.0000e-04\n",
      "Epoch 33/200\n",
      "113/113 [==============================] - 0s 2ms/step - loss: 0.0445 - val_loss: 0.0562 - lr: 2.0000e-04\n",
      "Epoch 34/200\n",
      "113/113 [==============================] - 0s 2ms/step - loss: 0.0437 - val_loss: 0.0563 - lr: 2.0000e-04\n",
      "Epoch 35/200\n",
      "113/113 [==============================] - 0s 2ms/step - loss: 0.0449 - val_loss: 0.0554 - lr: 2.0000e-04\n",
      "Epoch 36/200\n",
      "113/113 [==============================] - 0s 2ms/step - loss: 0.0418 - val_loss: 0.0543 - lr: 2.0000e-04\n",
      "Epoch 37/200\n",
      "113/113 [==============================] - 0s 2ms/step - loss: 0.0434 - val_loss: 0.0519 - lr: 2.0000e-04\n",
      "Epoch 38/200\n",
      "113/113 [==============================] - 0s 2ms/step - loss: 0.0397 - val_loss: 0.0517 - lr: 2.0000e-04\n",
      "Epoch 39/200\n",
      "113/113 [==============================] - 0s 2ms/step - loss: 0.0382 - val_loss: 0.0500 - lr: 2.0000e-04\n",
      "Epoch 40/200\n",
      "113/113 [==============================] - 0s 2ms/step - loss: 0.0374 - val_loss: 0.0495 - lr: 2.0000e-04\n",
      "Epoch 41/200\n",
      "113/113 [==============================] - 0s 2ms/step - loss: 0.0374 - val_loss: 0.0489 - lr: 2.0000e-04\n",
      "Epoch 42/200\n",
      "113/113 [==============================] - 0s 2ms/step - loss: 0.0360 - val_loss: 0.0511 - lr: 2.0000e-04\n",
      "Epoch 43/200\n",
      "113/113 [==============================] - 0s 2ms/step - loss: 0.0350 - val_loss: 0.0517 - lr: 2.0000e-04\n",
      "Epoch 44/200\n",
      "113/113 [==============================] - 0s 2ms/step - loss: 0.0343 - val_loss: 0.0481 - lr: 2.0000e-04\n",
      "Epoch 45/200\n",
      "113/113 [==============================] - 0s 2ms/step - loss: 0.0342 - val_loss: 0.0480 - lr: 2.0000e-04\n",
      "Epoch 46/200\n",
      "113/113 [==============================] - 0s 2ms/step - loss: 0.0322 - val_loss: 0.0493 - lr: 2.0000e-04\n",
      "Epoch 47/200\n",
      "113/113 [==============================] - 0s 2ms/step - loss: 0.0344 - val_loss: 0.0449 - lr: 2.0000e-04\n",
      "Epoch 48/200\n",
      "113/113 [==============================] - 0s 2ms/step - loss: 0.0324 - val_loss: 0.0461 - lr: 2.0000e-04\n",
      "Epoch 49/200\n",
      "113/113 [==============================] - 0s 2ms/step - loss: 0.0313 - val_loss: 0.0440 - lr: 2.0000e-04\n",
      "Epoch 50/200\n",
      "113/113 [==============================] - 0s 2ms/step - loss: 0.0301 - val_loss: 0.0460 - lr: 2.0000e-04\n",
      "Epoch 51/200\n",
      "113/113 [==============================] - 0s 2ms/step - loss: 0.0296 - val_loss: 0.0433 - lr: 2.0000e-04\n",
      "Epoch 52/200\n",
      "113/113 [==============================] - 0s 2ms/step - loss: 0.0284 - val_loss: 0.0443 - lr: 2.0000e-04\n",
      "Epoch 53/200\n",
      "113/113 [==============================] - 0s 2ms/step - loss: 0.0359 - val_loss: 0.0457 - lr: 2.0000e-04\n",
      "Epoch 54/200\n",
      "113/113 [==============================] - 0s 2ms/step - loss: 0.0324 - val_loss: 0.0457 - lr: 2.0000e-04\n",
      "Epoch 55/200\n",
      "113/113 [==============================] - 0s 2ms/step - loss: 0.0276 - val_loss: 0.0449 - lr: 2.0000e-04\n",
      "Epoch 56/200\n",
      "113/113 [==============================] - 0s 2ms/step - loss: 0.0272 - val_loss: 0.0423 - lr: 2.0000e-04\n",
      "Epoch 57/200\n",
      "113/113 [==============================] - 0s 2ms/step - loss: 0.0285 - val_loss: 0.0436 - lr: 2.0000e-04\n",
      "Epoch 58/200\n",
      "113/113 [==============================] - 0s 2ms/step - loss: 0.0269 - val_loss: 0.0449 - lr: 2.0000e-04\n",
      "Epoch 59/200\n",
      "113/113 [==============================] - 0s 2ms/step - loss: 0.0258 - val_loss: 0.0449 - lr: 2.0000e-04\n",
      "Epoch 60/200\n",
      "113/113 [==============================] - 0s 2ms/step - loss: 0.0252 - val_loss: 0.0406 - lr: 2.0000e-04\n",
      "Epoch 61/200\n",
      "113/113 [==============================] - 0s 2ms/step - loss: 0.0248 - val_loss: 0.0448 - lr: 2.0000e-04\n",
      "Epoch 62/200\n",
      "113/113 [==============================] - 0s 2ms/step - loss: 0.0246 - val_loss: 0.0404 - lr: 2.0000e-04\n",
      "Epoch 63/200\n",
      "113/113 [==============================] - 0s 2ms/step - loss: 0.0270 - val_loss: 0.0458 - lr: 2.0000e-04\n",
      "Epoch 64/200\n",
      "113/113 [==============================] - 0s 2ms/step - loss: 0.0233 - val_loss: 0.0410 - lr: 2.0000e-04\n",
      "Epoch 65/200\n",
      "113/113 [==============================] - 0s 2ms/step - loss: 0.0221 - val_loss: 0.0406 - lr: 2.0000e-04\n",
      "Epoch 66/200\n",
      "113/113 [==============================] - 0s 2ms/step - loss: 0.0222 - val_loss: 0.0403 - lr: 2.0000e-04\n",
      "Epoch 67/200\n",
      "113/113 [==============================] - 0s 2ms/step - loss: 0.0242 - val_loss: 0.0415 - lr: 2.0000e-04\n",
      "Epoch 68/200\n",
      "113/113 [==============================] - 0s 2ms/step - loss: 0.0201 - val_loss: 0.0402 - lr: 2.0000e-05\n",
      "Epoch 69/200\n",
      "113/113 [==============================] - 0s 2ms/step - loss: 0.0195 - val_loss: 0.0395 - lr: 2.0000e-05\n",
      "Epoch 70/200\n",
      "113/113 [==============================] - 0s 2ms/step - loss: 0.0193 - val_loss: 0.0396 - lr: 2.0000e-05\n",
      "Epoch 71/200\n",
      "113/113 [==============================] - 0s 2ms/step - loss: 0.0191 - val_loss: 0.0391 - lr: 2.0000e-05\n",
      "Epoch 72/200\n",
      "113/113 [==============================] - 0s 2ms/step - loss: 0.0190 - val_loss: 0.0390 - lr: 2.0000e-05\n",
      "Epoch 73/200\n",
      "113/113 [==============================] - 0s 2ms/step - loss: 0.0189 - val_loss: 0.0390 - lr: 2.0000e-05\n",
      "Epoch 74/200\n",
      "113/113 [==============================] - 0s 2ms/step - loss: 0.0188 - val_loss: 0.0388 - lr: 2.0000e-05\n",
      "Epoch 75/200\n",
      "113/113 [==============================] - 0s 2ms/step - loss: 0.0187 - val_loss: 0.0388 - lr: 2.0000e-05\n",
      "Epoch 76/200\n",
      "113/113 [==============================] - 0s 2ms/step - loss: 0.0187 - val_loss: 0.0387 - lr: 2.0000e-05\n",
      "Epoch 77/200\n",
      "113/113 [==============================] - 0s 2ms/step - loss: 0.0185 - val_loss: 0.0384 - lr: 2.0000e-05\n",
      "Epoch 78/200\n",
      "113/113 [==============================] - 0s 2ms/step - loss: 0.0184 - val_loss: 0.0389 - lr: 2.0000e-05\n",
      "Epoch 79/200\n",
      "113/113 [==============================] - 0s 2ms/step - loss: 0.0185 - val_loss: 0.0383 - lr: 2.0000e-05\n",
      "Epoch 80/200\n",
      "113/113 [==============================] - 0s 2ms/step - loss: 0.0183 - val_loss: 0.0385 - lr: 2.0000e-05\n",
      "Epoch 81/200\n",
      "113/113 [==============================] - 0s 2ms/step - loss: 0.0182 - val_loss: 0.0382 - lr: 2.0000e-05\n",
      "Epoch 82/200\n",
      "113/113 [==============================] - 0s 2ms/step - loss: 0.0181 - val_loss: 0.0383 - lr: 2.0000e-05\n",
      "Epoch 83/200\n",
      "113/113 [==============================] - 0s 2ms/step - loss: 0.0181 - val_loss: 0.0382 - lr: 2.0000e-05\n",
      "Epoch 84/200\n",
      "113/113 [==============================] - 0s 2ms/step - loss: 0.0181 - val_loss: 0.0382 - lr: 2.0000e-05\n",
      "Epoch 85/200\n",
      "113/113 [==============================] - 0s 2ms/step - loss: 0.0180 - val_loss: 0.0384 - lr: 2.0000e-05\n",
      "Epoch 86/200\n",
      "113/113 [==============================] - 0s 2ms/step - loss: 0.0179 - val_loss: 0.0382 - lr: 2.0000e-05\n",
      "Epoch 87/200\n",
      "113/113 [==============================] - 0s 2ms/step - loss: 0.0178 - val_loss: 0.0379 - lr: 2.0000e-05\n",
      "Epoch 87: early stopping\n"
     ]
    }
   ],
   "source": [
    "history = model.fit(\n",
    "    xtrain,\n",
    "    ytrain,\n",
    "    epochs=200,\n",
    "    callbacks = [tf.keras.callbacks.EarlyStopping(monitor='val_loss',\n",
    "                                                  verbose=2, \n",
    "                                                  min_delta=0.001, \n",
    "                                                  patience=10),\n",
    "                 tf.keras.callbacks.ReduceLROnPlateau(monitor='val_loss', \n",
    "                                                      patience=5)],\n",
    "    validation_data=(xtest, ytest)\n",
    ")"
   ]
  },
  {
   "cell_type": "code",
   "execution_count": 33,
   "id": "45d8606f-8a51-47cb-8a07-e922c9a313d3",
   "metadata": {
    "tags": []
   },
   "outputs": [
    {
     "data": {
      "image/png": "[encoded data removed]",
      "text/plain": [
       "<Figure size 1200x400 with 1 Axes>"
      ]
     },
     "metadata": {},
     "output_type": "display_data"
    }
   ],
   "source": [
    "fig, ax = plt.subplots(figsize=(12,4))\n",
    "ax.plot(range(len(history.history['loss'])), history.history['loss'], label='train loss')\n",
    "ax.plot(range(len(history.history['val_loss'])), history.history['val_loss'], label='val loss')\n",
    "ax.legend()\n",
    "plt.ylabel(\"loss\")\n",
    "plt.title('Loss at Training')\n",
    "plt.show()"
   ]
  }
 ],
 "metadata": {
  "kernelspec": {
   "display_name": "Python 3 (ipykernel)",
   "language": "python",
   "name": "python3"
  },
  "language_info": {
   "codemirror_mode": {
    "name": "ipython",
    "version": 3
   },
   "file_extension": ".py",
   "mimetype": "text/x-python",
   "name": "python",
   "nbconvert_exporter": "python",
   "pygments_lexer": "ipython3",
   "version": "3.11.2"
  }
 },
 "nbformat": 4,
 "nbformat_minor": 5
}
