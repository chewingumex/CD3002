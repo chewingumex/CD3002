{
 "cells": [
  {
   "cell_type": "code",
   "execution_count": 1,
   "id": "7bb31329-e552-4374-8d66-1a03983d5293",
   "metadata": {
    "tags": []
   },
   "outputs": [
    {
     "name": "stderr",
     "output_type": "stream",
     "text": [
      "2024-04-04 17:56:03.354820: I tensorflow/core/platform/cpu_feature_guard.cc:182] This TensorFlow binary is optimized to use available CPU instructions in performance-critical operations.\n",
      "To enable the following instructions: AVX2 AVX512F AVX512_VNNI FMA, in other operations, rebuild TensorFlow with the appropriate compiler flags.\n"
     ]
    }
   ],
   "source": [
    "import pandas as pd\n",
    "import numpy as np\n",
    "import tensorflow as tf\n",
    "from sklearn.model_selection import train_test_split\n",
    "import matplotlib.pyplot as plt"
   ]
  },
  {
   "cell_type": "code",
   "execution_count": 2,
   "id": "6186c98a-10a7-4e58-b083-1469ffe7202d",
   "metadata": {
    "tags": []
   },
   "outputs": [],
   "source": [
    "df = pd.read_csv('./../ejerciciosModelosSupervisados/clasificacion_profesion/datos/train.csv')"
   ]
  },
  {
   "cell_type": "code",
   "execution_count": 3,
   "id": "457a5cdf-bef6-4808-82f6-4fad4d85ca3f",
   "metadata": {},
   "outputs": [],
   "source": [
    "# pre-process datos (si es necesario)\n",
    "\n",
    "df= df.dropna(subset=['Work_Experience','Profession','Family_Size','Graduated_Yes'])\n",
    "\n",
    "df['Profession'] = df['Profession'].replace({\n",
    "    'Healthcare':0, \n",
    "    'Engineer':1, \n",
    "    'Lawyer':2, \n",
    "    'Entertainment':3, \n",
    "    'Artist':4,\n",
    "    'Executive':5, \n",
    "    'Doctor':6, \n",
    "    'Homemaker':7, \n",
    "    'Marketing':8\n",
    "})\n",
    "\n",
    "df = pd.get_dummies(df)"
   ]
  },
  {
   "cell_type": "code",
   "execution_count": 4,
   "id": "660323d4-6de5-4426-8f36-d4e9d9f63cfa",
   "metadata": {},
   "outputs": [],
   "source": [
    "yvar = df.Profession\n",
    "xvars = df[[x for x in df.columns if x != 'Profession']]"
   ]
  },
  {
   "cell_type": "code",
   "execution_count": 5,
   "id": "75b98d00-ae04-4ec5-af3a-032141cae844",
   "metadata": {
    "tags": []
   },
   "outputs": [],
   "source": [
    "# dividir train / test para variables independientes (x)  y dependiente (y)\n",
    "xtrain, xtest, ytrain, ytest = train_test_split(xvars, yvar, train_size = 0.80, random_state = 2)"
   ]
  },
  {
   "cell_type": "code",
   "execution_count": 6,
   "id": "a07f82a3-8c64-4ae0-9a17-369a398bd0e5",
   "metadata": {
    "tags": []
   },
   "outputs": [],
   "source": [
    "# convertir datos en numpy arrays\n",
    "\n",
    "xtrain = np.array(xtrain)\n",
    "xtest= np.array(xtest)\n",
    "ytrain = np.array(ytrain).squeeze()\n",
    "ytest = np.array(ytest).squeeze()"
   ]
  },
  {
   "cell_type": "code",
   "execution_count": 14,
   "id": "f0d8e04e-127a-4cf0-8caa-756ca7a73768",
   "metadata": {
    "tags": []
   },
   "outputs": [],
   "source": [
    "# regression network / sequential API\n",
    "\n",
    "model = tf.keras.Sequential([\n",
    "    \n",
    "    tf.keras.layers.Dense(256, kernel_regularizer='l2', activation='relu'),\n",
    "    tf.keras.layers.Dense(128, activation='relu'),\n",
    "    tf.keras.layers.Dense(9, activation = 'softmax')\n",
    "])\n",
    "\n",
    "optimizer = tf.keras.optimizers.Adam(learning_rate = 0.0002)\n",
    "\n",
    "model.compile(optimizer=optimizer, loss='SparseCategoricalCrossentropy', metrics=['accuracy'])"
   ]
  },
  {
   "cell_type": "code",
   "execution_count": 15,
   "id": "2bf37bd1-704a-48f9-b12e-b89ce4f4b255",
   "metadata": {
    "tags": []
   },
   "outputs": [
    {
     "name": "stdout",
     "output_type": "stream",
     "text": [
      "Epoch 1/200\n",
      "171/171 [==============================] - 1s 3ms/step - loss: 2.3311 - accuracy: 0.3801 - val_loss: 1.9861 - val_accuracy: 0.4330 - lr: 2.0000e-04\n",
      "Epoch 2/200\n",
      "171/171 [==============================] - 0s 2ms/step - loss: 1.8941 - accuracy: 0.4578 - val_loss: 1.8177 - val_accuracy: 0.4821 - lr: 2.0000e-04\n",
      "Epoch 3/200\n",
      "171/171 [==============================] - 0s 2ms/step - loss: 1.7645 - accuracy: 0.4778 - val_loss: 1.7375 - val_accuracy: 0.4491 - lr: 2.0000e-04\n",
      "Epoch 4/200\n",
      "171/171 [==============================] - 0s 2ms/step - loss: 1.6941 - accuracy: 0.4872 - val_loss: 1.6998 - val_accuracy: 0.4564 - lr: 2.0000e-04\n",
      "Epoch 5/200\n",
      "171/171 [==============================] - 0s 2ms/step - loss: 1.6438 - accuracy: 0.4982 - val_loss: 1.6441 - val_accuracy: 0.4952 - lr: 2.0000e-04\n",
      "Epoch 6/200\n",
      "171/171 [==============================] - 0s 2ms/step - loss: 1.6129 - accuracy: 0.4998 - val_loss: 1.5979 - val_accuracy: 0.5114 - lr: 2.0000e-04\n",
      "Epoch 7/200\n",
      "171/171 [==============================] - 0s 2ms/step - loss: 1.5967 - accuracy: 0.5070 - val_loss: 1.5884 - val_accuracy: 0.5070 - lr: 2.0000e-04\n",
      "Epoch 8/200\n",
      "171/171 [==============================] - 0s 2ms/step - loss: 1.5742 - accuracy: 0.5086 - val_loss: 1.5876 - val_accuracy: 0.5143 - lr: 2.0000e-04\n",
      "Epoch 9/200\n",
      "171/171 [==============================] - 0s 2ms/step - loss: 1.5519 - accuracy: 0.5209 - val_loss: 1.5788 - val_accuracy: 0.5231 - lr: 2.0000e-04\n",
      "Epoch 10/200\n",
      "171/171 [==============================] - 0s 2ms/step - loss: 1.5386 - accuracy: 0.5231 - val_loss: 1.5481 - val_accuracy: 0.5165 - lr: 2.0000e-04\n",
      "Epoch 11/200\n",
      "171/171 [==============================] - 0s 2ms/step - loss: 1.5232 - accuracy: 0.5224 - val_loss: 1.5571 - val_accuracy: 0.4960 - lr: 2.0000e-04\n",
      "Epoch 12/200\n",
      "171/171 [==============================] - 0s 2ms/step - loss: 1.5168 - accuracy: 0.5196 - val_loss: 1.5525 - val_accuracy: 0.5333 - lr: 2.0000e-04\n",
      "Epoch 13/200\n",
      "171/171 [==============================] - 0s 2ms/step - loss: 1.5162 - accuracy: 0.5225 - val_loss: 1.5699 - val_accuracy: 0.5033 - lr: 2.0000e-04\n",
      "Epoch 14/200\n",
      "171/171 [==============================] - 0s 2ms/step - loss: 1.5070 - accuracy: 0.5220 - val_loss: 1.5420 - val_accuracy: 0.5399 - lr: 2.0000e-04\n",
      "Epoch 15/200\n",
      "171/171 [==============================] - 0s 2ms/step - loss: 1.4980 - accuracy: 0.5290 - val_loss: 1.5122 - val_accuracy: 0.5377 - lr: 2.0000e-04\n",
      "Epoch 16/200\n",
      "171/171 [==============================] - 0s 2ms/step - loss: 1.4913 - accuracy: 0.5299 - val_loss: 1.5112 - val_accuracy: 0.4989 - lr: 2.0000e-04\n",
      "Epoch 17/200\n",
      "171/171 [==============================] - 0s 2ms/step - loss: 1.4789 - accuracy: 0.5346 - val_loss: 1.4895 - val_accuracy: 0.5392 - lr: 2.0000e-04\n",
      "Epoch 18/200\n",
      "171/171 [==============================] - 0s 3ms/step - loss: 1.4788 - accuracy: 0.5290 - val_loss: 1.4942 - val_accuracy: 0.5260 - lr: 2.0000e-04\n",
      "Epoch 19/200\n",
      "171/171 [==============================] - 0s 2ms/step - loss: 1.4685 - accuracy: 0.5326 - val_loss: 1.4929 - val_accuracy: 0.5011 - lr: 2.0000e-04\n",
      "Epoch 20/200\n",
      "171/171 [==============================] - 0s 2ms/step - loss: 1.4636 - accuracy: 0.5321 - val_loss: 1.5254 - val_accuracy: 0.5209 - lr: 2.0000e-04\n",
      "Epoch 21/200\n",
      "171/171 [==============================] - 0s 2ms/step - loss: 1.4618 - accuracy: 0.5356 - val_loss: 1.5022 - val_accuracy: 0.5341 - lr: 2.0000e-04\n",
      "Epoch 22/200\n",
      "171/171 [==============================] - 0s 2ms/step - loss: 1.4624 - accuracy: 0.5308 - val_loss: 1.4673 - val_accuracy: 0.5297 - lr: 2.0000e-04\n",
      "Epoch 23/200\n",
      "171/171 [==============================] - 0s 2ms/step - loss: 1.4509 - accuracy: 0.5407 - val_loss: 1.4955 - val_accuracy: 0.5245 - lr: 2.0000e-04\n",
      "Epoch 24/200\n",
      "171/171 [==============================] - 0s 2ms/step - loss: 1.4495 - accuracy: 0.5337 - val_loss: 1.4827 - val_accuracy: 0.5253 - lr: 2.0000e-04\n",
      "Epoch 25/200\n",
      "171/171 [==============================] - 0s 2ms/step - loss: 1.4397 - accuracy: 0.5433 - val_loss: 1.4705 - val_accuracy: 0.5399 - lr: 2.0000e-04\n",
      "Epoch 26/200\n",
      "171/171 [==============================] - 0s 2ms/step - loss: 1.4395 - accuracy: 0.5352 - val_loss: 1.4564 - val_accuracy: 0.5348 - lr: 2.0000e-04\n",
      "Epoch 27/200\n",
      "171/171 [==============================] - 0s 2ms/step - loss: 1.4346 - accuracy: 0.5418 - val_loss: 1.4525 - val_accuracy: 0.5429 - lr: 2.0000e-04\n",
      "Epoch 28/200\n",
      "171/171 [==============================] - 0s 2ms/step - loss: 1.4307 - accuracy: 0.5357 - val_loss: 1.4690 - val_accuracy: 0.5238 - lr: 2.0000e-04\n",
      "Epoch 29/200\n",
      "171/171 [==============================] - 0s 2ms/step - loss: 1.4305 - accuracy: 0.5394 - val_loss: 1.4527 - val_accuracy: 0.5245 - lr: 2.0000e-04\n",
      "Epoch 30/200\n",
      "171/171 [==============================] - 0s 2ms/step - loss: 1.4266 - accuracy: 0.5423 - val_loss: 1.4675 - val_accuracy: 0.5392 - lr: 2.0000e-04\n",
      "Epoch 31/200\n",
      "171/171 [==============================] - 0s 2ms/step - loss: 1.4268 - accuracy: 0.5381 - val_loss: 1.4545 - val_accuracy: 0.5194 - lr: 2.0000e-04\n",
      "Epoch 32/200\n",
      "171/171 [==============================] - 0s 2ms/step - loss: 1.4248 - accuracy: 0.5420 - val_loss: 1.4586 - val_accuracy: 0.5392 - lr: 2.0000e-04\n",
      "Epoch 33/200\n",
      "171/171 [==============================] - 0s 2ms/step - loss: 1.3943 - accuracy: 0.5513 - val_loss: 1.4372 - val_accuracy: 0.5436 - lr: 2.0000e-05\n",
      "Epoch 34/200\n",
      "171/171 [==============================] - 0s 2ms/step - loss: 1.3916 - accuracy: 0.5524 - val_loss: 1.4348 - val_accuracy: 0.5458 - lr: 2.0000e-05\n",
      "Epoch 35/200\n",
      "171/171 [==============================] - 0s 2ms/step - loss: 1.3915 - accuracy: 0.5506 - val_loss: 1.4410 - val_accuracy: 0.5194 - lr: 2.0000e-05\n",
      "Epoch 36/200\n",
      "171/171 [==============================] - 0s 2ms/step - loss: 1.3911 - accuracy: 0.5519 - val_loss: 1.4310 - val_accuracy: 0.5458 - lr: 2.0000e-05\n",
      "Epoch 37/200\n",
      "171/171 [==============================] - 0s 3ms/step - loss: 1.3894 - accuracy: 0.5528 - val_loss: 1.4327 - val_accuracy: 0.5385 - lr: 2.0000e-05\n",
      "Epoch 38/200\n",
      "171/171 [==============================] - 0s 2ms/step - loss: 1.3906 - accuracy: 0.5482 - val_loss: 1.4332 - val_accuracy: 0.5473 - lr: 2.0000e-05\n",
      "Epoch 39/200\n",
      "171/171 [==============================] - 0s 2ms/step - loss: 1.3893 - accuracy: 0.5521 - val_loss: 1.4336 - val_accuracy: 0.5487 - lr: 2.0000e-05\n",
      "Epoch 40/200\n",
      "171/171 [==============================] - 0s 2ms/step - loss: 1.3895 - accuracy: 0.5515 - val_loss: 1.4363 - val_accuracy: 0.5392 - lr: 2.0000e-05\n",
      "Epoch 41/200\n",
      "171/171 [==============================] - 0s 2ms/step - loss: 1.3895 - accuracy: 0.5517 - val_loss: 1.4345 - val_accuracy: 0.5421 - lr: 2.0000e-05\n",
      "Epoch 42/200\n",
      "171/171 [==============================] - 0s 2ms/step - loss: 1.3870 - accuracy: 0.5533 - val_loss: 1.4308 - val_accuracy: 0.5399 - lr: 2.0000e-06\n",
      "Epoch 43/200\n",
      "171/171 [==============================] - 0s 3ms/step - loss: 1.3856 - accuracy: 0.5524 - val_loss: 1.4301 - val_accuracy: 0.5451 - lr: 2.0000e-06\n",
      "Epoch 44/200\n",
      "171/171 [==============================] - 0s 2ms/step - loss: 1.3856 - accuracy: 0.5532 - val_loss: 1.4301 - val_accuracy: 0.5436 - lr: 2.0000e-06\n",
      "Epoch 45/200\n",
      "171/171 [==============================] - 0s 2ms/step - loss: 1.3854 - accuracy: 0.5546 - val_loss: 1.4301 - val_accuracy: 0.5436 - lr: 2.0000e-06\n",
      "Epoch 46/200\n",
      "171/171 [==============================] - 0s 2ms/step - loss: 1.3855 - accuracy: 0.5535 - val_loss: 1.4301 - val_accuracy: 0.5443 - lr: 2.0000e-06\n",
      "Epoch 46: early stopping\n"
     ]
    }
   ],
   "source": [
    "history = model.fit(\n",
    "    xtrain,\n",
    "    ytrain,\n",
    "    epochs=200,\n",
    "    callbacks = [tf.keras.callbacks.EarlyStopping(monitor='val_loss',\n",
    "                                                  verbose=2, \n",
    "                                                  min_delta=0.001, \n",
    "                                                  patience=10),\n",
    "                 tf.keras.callbacks.ReduceLROnPlateau(monitor='val_loss', \n",
    "                                                      patience=5)],\n",
    "    validation_data=(xtest, ytest)\n",
    ")"
   ]
  },
  {
   "cell_type": "code",
   "execution_count": 9,
   "id": "45d8606f-8a51-47cb-8a07-e922c9a313d3",
   "metadata": {
    "tags": []
   },
   "outputs": [
    {
     "data": {
      "image/png": "[encoded data removed]",
      "text/plain": [
       "<Figure size 1200x400 with 1 Axes>"
      ]
     },
     "metadata": {},
     "output_type": "display_data"
    }
   ],
   "source": [
    "fig, ax = plt.subplots(figsize=(12,4))\n",
    "ax.plot(range(len(history.history['loss'])), history.history['loss'], label='train loss')\n",
    "ax.plot(range(len(history.history['val_loss'])), history.history['val_loss'], label='val loss')\n",
    "ax.legend()\n",
    "plt.ylabel(\"loss\")\n",
    "plt.title('Loss at Training')\n",
    "plt.show()"
   ]
  }
 ],
 "metadata": {
  "kernelspec": {
   "display_name": "Python 3 (ipykernel)",
   "language": "python",
   "name": "python3"
  },
  "language_info": {
   "codemirror_mode": {
    "name": "ipython",
    "version": 3
   },
   "file_extension": ".py",
   "mimetype": "text/x-python",
   "name": "python",
   "nbconvert_exporter": "python",
   "pygments_lexer": "ipython3",
   "version": "3.11.2"
  }
 },
 "nbformat": 4,
 "nbformat_minor": 5
}
