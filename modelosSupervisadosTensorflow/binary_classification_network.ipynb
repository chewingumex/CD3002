{
 "cells": [
  {
   "cell_type": "code",
   "execution_count": 1,
   "id": "7bb31329-e552-4374-8d66-1a03983d5293",
   "metadata": {
    "tags": []
   },
   "outputs": [
    {
     "name": "stderr",
     "output_type": "stream",
     "text": [
      "2024-02-27 20:29:09.492812: I tensorflow/core/platform/cpu_feature_guard.cc:182] This TensorFlow binary is optimized to use available CPU instructions in performance-critical operations.\n",
      "To enable the following instructions: AVX2 AVX512F AVX512_VNNI FMA, in other operations, rebuild TensorFlow with the appropriate compiler flags.\n"
     ]
    }
   ],
   "source": [
    "import pandas as pd\n",
    "import numpy as np\n",
    "import tensorflow as tf\n",
    "from sklearn.model_selection import train_test_split"
   ]
  },
  {
   "cell_type": "code",
   "execution_count": 2,
   "id": "6186c98a-10a7-4e58-b083-1469ffe7202d",
   "metadata": {
    "tags": []
   },
   "outputs": [],
   "source": [
    "df = pd.read_csv('./../ejerciciosModelosSupervisados/deteccion_transacciones_fraudulentas/datos/data_fraude.csv')"
   ]
  },
  {
   "cell_type": "code",
   "execution_count": 3,
   "id": "e5ec590c-aea8-4152-af7a-ab3cce387146",
   "metadata": {},
   "outputs": [],
   "source": [
    "# pre-process datos (si es necesario)\n",
    "df = df.rename(columns={'0.1':'Class'}).drop('Unnamed: 0',axis=1)"
   ]
  },
  {
   "cell_type": "code",
   "execution_count": 4,
   "id": "660323d4-6de5-4426-8f36-d4e9d9f63cfa",
   "metadata": {},
   "outputs": [],
   "source": [
    "yvar = df.Class\n",
    "xvars = df[[x for x in df.columns if x != 'Class']]"
   ]
  },
  {
   "cell_type": "code",
   "execution_count": 5,
   "id": "75b98d00-ae04-4ec5-af3a-032141cae844",
   "metadata": {
    "tags": []
   },
   "outputs": [],
   "source": [
    "# dividir train / test para variables independientes (x)  y dependiente (y)\n",
    "xtrain, xtest, ytrain, ytest = train_test_split(xvars, yvar, train_size = 0.80, random_state = 2)"
   ]
  },
  {
   "cell_type": "code",
   "execution_count": 6,
   "id": "a07f82a3-8c64-4ae0-9a17-369a398bd0e5",
   "metadata": {
    "tags": []
   },
   "outputs": [],
   "source": [
    "xtrain = np.array(xtrain)\n",
    "xtest= np.array(xtest)\n",
    "ytrain = np.array(ytrain)\n",
    "ytest = np.array(ytest)"
   ]
  },
  {
   "cell_type": "code",
   "execution_count": 7,
   "id": "36565c1f-3375-4c23-ad12-04961383eb4c",
   "metadata": {
    "tags": []
   },
   "outputs": [],
   "source": [
    "xtrain = np.reshape(xtrain, (xtrain.shape[0], 1, xtrain.shape[1]))\n",
    "xtest = np.reshape(xtest, (xtest.shape[0], 1, xtest.shape[1]))"
   ]
  },
  {
   "cell_type": "code",
   "execution_count": 8,
   "id": "f0d8e04e-127a-4cf0-8caa-756ca7a73768",
   "metadata": {
    "tags": []
   },
   "outputs": [],
   "source": [
    "# regression network / sequential API\n",
    "\n",
    "model = tf.keras.Sequential([\n",
    "    \n",
    "    tf.keras.layers.Dense(256, kernel_regularizer='l2', activation='relu'),\n",
    "    tf.keras.layers.Dense(128, activation='relu'),\n",
    "    tf.keras.layers.Dense(1, activation='relu')\n",
    "])\n",
    "\n",
    "optimizer = tf.keras.optimizers.Adam(learning_rate = 0.0002)\n",
    "\n",
    "\n",
    "\n",
    "model.compile(optimizer=optimizer, loss='binary_crossentropy')\n",
    "\n"
   ]
  },
  {
   "cell_type": "code",
   "execution_count": 9,
   "id": "2bf37bd1-704a-48f9-b12e-b89ce4f4b255",
   "metadata": {
    "tags": []
   },
   "outputs": [
    {
     "name": "stdout",
     "output_type": "stream",
     "text": [
      "Epoch 1/200\n",
      "113/113 [==============================] - 1s 4ms/step - loss: 3.9827 - val_loss: 3.0531 - lr: 2.0000e-04\n",
      "Epoch 2/200\n",
      "113/113 [==============================] - 0s 2ms/step - loss: 2.6403 - val_loss: 2.2849 - lr: 2.0000e-04\n",
      "Epoch 3/200\n",
      "113/113 [==============================] - 0s 2ms/step - loss: 2.4849 - val_loss: 2.3209 - lr: 2.0000e-04\n",
      "Epoch 4/200\n",
      "113/113 [==============================] - 0s 2ms/step - loss: 2.7171 - val_loss: 2.7845 - lr: 2.0000e-04\n",
      "Epoch 5/200\n",
      "113/113 [==============================] - 0s 2ms/step - loss: 2.7188 - val_loss: 2.4370 - lr: 2.0000e-04\n",
      "Epoch 6/200\n",
      "113/113 [==============================] - 0s 2ms/step - loss: 2.4742 - val_loss: 2.2758 - lr: 2.0000e-04\n",
      "Epoch 7/200\n",
      "113/113 [==============================] - 0s 2ms/step - loss: 2.2738 - val_loss: 2.1945 - lr: 2.0000e-04\n",
      "Epoch 8/200\n",
      "113/113 [==============================] - 0s 2ms/step - loss: 2.2560 - val_loss: 2.1827 - lr: 2.0000e-04\n",
      "Epoch 9/200\n",
      "113/113 [==============================] - 0s 2ms/step - loss: 2.2573 - val_loss: 2.1781 - lr: 2.0000e-04\n",
      "Epoch 10/200\n",
      "113/113 [==============================] - 0s 2ms/step - loss: 2.2574 - val_loss: 2.1795 - lr: 2.0000e-04\n",
      "Epoch 11/200\n",
      "113/113 [==============================] - 0s 2ms/step - loss: 2.2487 - val_loss: 2.1810 - lr: 2.0000e-04\n",
      "Epoch 12/200\n",
      "113/113 [==============================] - 0s 2ms/step - loss: 2.2327 - val_loss: 2.1633 - lr: 2.0000e-04\n",
      "Epoch 13/200\n",
      "113/113 [==============================] - 0s 2ms/step - loss: 2.2467 - val_loss: 2.1565 - lr: 2.0000e-04\n",
      "Epoch 14/200\n",
      "113/113 [==============================] - 0s 2ms/step - loss: 2.2916 - val_loss: 2.2382 - lr: 2.0000e-04\n",
      "Epoch 15/200\n",
      "113/113 [==============================] - 0s 2ms/step - loss: 2.2589 - val_loss: 2.1453 - lr: 2.0000e-04\n",
      "Epoch 16/200\n",
      "113/113 [==============================] - 0s 2ms/step - loss: 2.6268 - val_loss: 2.7414 - lr: 2.0000e-04\n",
      "Epoch 17/200\n",
      "113/113 [==============================] - 0s 2ms/step - loss: 5.4156 - val_loss: 5.4566 - lr: 2.0000e-04\n",
      "Epoch 18/200\n",
      "113/113 [==============================] - 0s 2ms/step - loss: 5.6698 - val_loss: 5.4675 - lr: 2.0000e-04\n",
      "Epoch 19/200\n",
      "113/113 [==============================] - 0s 2ms/step - loss: 5.2632 - val_loss: 5.0429 - lr: 2.0000e-04\n",
      "Epoch 20/200\n",
      "113/113 [==============================] - 0s 2ms/step - loss: 5.0519 - val_loss: 5.2361 - lr: 2.0000e-04\n",
      "Epoch 21/200\n",
      "113/113 [==============================] - 0s 2ms/step - loss: 5.0855 - val_loss: 4.9930 - lr: 2.0000e-05\n",
      "Epoch 22/200\n",
      "113/113 [==============================] - 0s 2ms/step - loss: 4.9977 - val_loss: 4.9148 - lr: 2.0000e-05\n",
      "Epoch 23/200\n",
      "113/113 [==============================] - 0s 2ms/step - loss: 4.8454 - val_loss: 4.7904 - lr: 2.0000e-05\n",
      "Epoch 24/200\n",
      "113/113 [==============================] - 0s 2ms/step - loss: 4.6427 - val_loss: 4.6710 - lr: 2.0000e-05\n",
      "Epoch 25/200\n",
      "113/113 [==============================] - 0s 2ms/step - loss: 4.5635 - val_loss: 4.5814 - lr: 2.0000e-05\n",
      "Epoch 25: early stopping\n"
     ]
    },
    {
     "data": {
      "text/plain": [
       "<keras.callbacks.History at 0x13d881190>"
      ]
     },
     "execution_count": 9,
     "metadata": {},
     "output_type": "execute_result"
    }
   ],
   "source": [
    "model.fit(xtrain,\n",
    "          ytrain,\n",
    "          epochs=200,\n",
    "          callbacks = [tf.keras.callbacks.EarlyStopping(monitor='val_loss',verbose=2, min_delta=0.001, patience=10),\n",
    "                       tf.keras.callbacks.ReduceLROnPlateau(monitor='val_loss', patience=5)],\n",
    "          validation_data=(xtest, ytest)\n",
    "         )"
   ]
  },
  {
   "cell_type": "code",
   "execution_count": null,
   "id": "22f0ec6b-3ef9-43ca-9be5-bc2cc74af635",
   "metadata": {},
   "outputs": [],
   "source": [
    "model"
   ]
  }
 ],
 "metadata": {
  "kernelspec": {
   "display_name": "Python 3 (ipykernel)",
   "language": "python",
   "name": "python3"
  },
  "language_info": {
   "codemirror_mode": {
    "name": "ipython",
    "version": 3
   },
   "file_extension": ".py",
   "mimetype": "text/x-python",
   "name": "python",
   "nbconvert_exporter": "python",
   "pygments_lexer": "ipython3",
   "version": "3.11.2"
  }
 },
 "nbformat": 4,
 "nbformat_minor": 5
}
