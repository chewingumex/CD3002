{
 "cells": [
  {
   "cell_type": "code",
   "execution_count": 1,
   "id": "7bb31329-e552-4374-8d66-1a03983d5293",
   "metadata": {
    "tags": []
   },
   "outputs": [
    {
     "name": "stderr",
     "output_type": "stream",
     "text": [
      "2024-03-07 19:58:47.084066: I tensorflow/core/platform/cpu_feature_guard.cc:182] This TensorFlow binary is optimized to use available CPU instructions in performance-critical operations.\n",
      "To enable the following instructions: AVX2 AVX512F AVX512_VNNI FMA, in other operations, rebuild TensorFlow with the appropriate compiler flags.\n"
     ]
    }
   ],
   "source": [
    "import pandas as pd\n",
    "import numpy as np\n",
    "import tensorflow as tf\n",
    "from sklearn.model_selection import train_test_split"
   ]
  },
  {
   "cell_type": "code",
   "execution_count": 2,
   "id": "6186c98a-10a7-4e58-b083-1469ffe7202d",
   "metadata": {
    "tags": []
   },
   "outputs": [],
   "source": [
    "df = pd.read_csv('./../ejerciciosModelosSupervisados/deteccion_transacciones_fraudulentas/datos/data_fraude.csv')"
   ]
  },
  {
   "cell_type": "code",
   "execution_count": 3,
   "id": "e5ec590c-aea8-4152-af7a-ab3cce387146",
   "metadata": {},
   "outputs": [],
   "source": [
    "# pre-process datos (si es necesario)\n",
    "df = df.rename(columns={'0.1':'Class'}).drop('Unnamed: 0',axis=1)"
   ]
  },
  {
   "cell_type": "code",
   "execution_count": 4,
   "id": "660323d4-6de5-4426-8f36-d4e9d9f63cfa",
   "metadata": {},
   "outputs": [],
   "source": [
    "yvar = df.Class\n",
    "xvars = df[[x for x in df.columns if x != 'Class']]"
   ]
  },
  {
   "cell_type": "code",
   "execution_count": 5,
   "id": "75b98d00-ae04-4ec5-af3a-032141cae844",
   "metadata": {
    "tags": []
   },
   "outputs": [],
   "source": [
    "# dividir train / test para variables independientes (x)  y dependiente (y)\n",
    "xtrain, xtest, ytrain, ytest = train_test_split(xvars, yvar, train_size = 0.80, random_state = 2)"
   ]
  },
  {
   "cell_type": "code",
   "execution_count": 6,
   "id": "a07f82a3-8c64-4ae0-9a17-369a398bd0e5",
   "metadata": {
    "tags": []
   },
   "outputs": [],
   "source": [
    "xtrain = np.array(xtrain)\n",
    "xtest= np.array(xtest)\n",
    "ytrain = np.array(ytrain).squeeze()\n",
    "ytest = np.array(ytest).squeeze()"
   ]
  },
  {
   "cell_type": "code",
   "execution_count": 7,
   "id": "36565c1f-3375-4c23-ad12-04961383eb4c",
   "metadata": {
    "tags": []
   },
   "outputs": [],
   "source": [
    "# xtrain = np.reshape(xtrain, (xtrain.shape[0], 1, xtrain.shape[1]))\n",
    "# xtest = np.reshape(xtest, (xtest.shape[0], 1, xtest.shape[1]))"
   ]
  },
  {
   "cell_type": "code",
   "execution_count": 8,
   "id": "f0d8e04e-127a-4cf0-8caa-756ca7a73768",
   "metadata": {
    "tags": []
   },
   "outputs": [],
   "source": [
    "# regression network / sequential API\n",
    "\n",
    "model = tf.keras.Sequential([\n",
    "    \n",
    "    tf.keras.layers.Dense(256, kernel_regularizer='l2', activation='relu'),\n",
    "    tf.keras.layers.Dense(128, activation='relu'),\n",
    "    tf.keras.layers.Dense(1, activation='sigmoid')\n",
    "])\n",
    "\n",
    "optimizer = tf.keras.optimizers.Adam(learning_rate = 0.0002)\n",
    "\n",
    "\n",
    "\n",
    "model.compile(optimizer=optimizer, loss='binary_crossentropy')\n",
    "\n"
   ]
  },
  {
   "cell_type": "code",
   "execution_count": 9,
   "id": "2bf37bd1-704a-48f9-b12e-b89ce4f4b255",
   "metadata": {
    "tags": []
   },
   "outputs": [
    {
     "name": "stdout",
     "output_type": "stream",
     "text": [
      "Epoch 1/200\n",
      "113/113 [==============================] - 1s 3ms/step - loss: 0.6202 - val_loss: 0.4558 - lr: 2.0000e-04\n",
      "Epoch 2/200\n",
      "113/113 [==============================] - 0s 2ms/step - loss: 0.4186 - val_loss: 0.3531 - lr: 2.0000e-04\n",
      "Epoch 3/200\n",
      "113/113 [==============================] - 0s 2ms/step - loss: 0.3400 - val_loss: 0.2924 - lr: 2.0000e-04\n",
      "Epoch 4/200\n",
      "113/113 [==============================] - 0s 2ms/step - loss: 0.2863 - val_loss: 0.2493 - lr: 2.0000e-04\n",
      "Epoch 5/200\n",
      "113/113 [==============================] - 0s 2ms/step - loss: 0.2451 - val_loss: 0.2162 - lr: 2.0000e-04\n",
      "Epoch 6/200\n",
      "113/113 [==============================] - 0s 2ms/step - loss: 0.2130 - val_loss: 0.1909 - lr: 2.0000e-04\n",
      "Epoch 7/200\n",
      "113/113 [==============================] - 0s 2ms/step - loss: 0.1879 - val_loss: 0.1713 - lr: 2.0000e-04\n",
      "Epoch 8/200\n",
      "113/113 [==============================] - 0s 2ms/step - loss: 0.1674 - val_loss: 0.1523 - lr: 2.0000e-04\n",
      "Epoch 9/200\n",
      "113/113 [==============================] - 0s 2ms/step - loss: 0.1505 - val_loss: 0.1378 - lr: 2.0000e-04\n",
      "Epoch 10/200\n",
      "113/113 [==============================] - 0s 2ms/step - loss: 0.1373 - val_loss: 0.1276 - lr: 2.0000e-04\n",
      "Epoch 11/200\n",
      "113/113 [==============================] - 0s 2ms/step - loss: 0.1255 - val_loss: 0.1181 - lr: 2.0000e-04\n",
      "Epoch 12/200\n",
      "113/113 [==============================] - 0s 2ms/step - loss: 0.1162 - val_loss: 0.1109 - lr: 2.0000e-04\n",
      "Epoch 13/200\n",
      "113/113 [==============================] - 0s 2ms/step - loss: 0.1077 - val_loss: 0.1033 - lr: 2.0000e-04\n",
      "Epoch 14/200\n",
      "113/113 [==============================] - 0s 2ms/step - loss: 0.1001 - val_loss: 0.0975 - lr: 2.0000e-04\n",
      "Epoch 15/200\n",
      "113/113 [==============================] - 0s 2ms/step - loss: 0.0941 - val_loss: 0.0933 - lr: 2.0000e-04\n",
      "Epoch 16/200\n",
      "113/113 [==============================] - 0s 2ms/step - loss: 0.0880 - val_loss: 0.0873 - lr: 2.0000e-04\n",
      "Epoch 17/200\n",
      "113/113 [==============================] - 0s 2ms/step - loss: 0.0835 - val_loss: 0.0832 - lr: 2.0000e-04\n",
      "Epoch 18/200\n",
      "113/113 [==============================] - 0s 2ms/step - loss: 0.0793 - val_loss: 0.0794 - lr: 2.0000e-04\n",
      "Epoch 19/200\n",
      "113/113 [==============================] - 0s 2ms/step - loss: 0.0760 - val_loss: 0.0781 - lr: 2.0000e-04\n",
      "Epoch 20/200\n",
      "113/113 [==============================] - 0s 2ms/step - loss: 0.0712 - val_loss: 0.0727 - lr: 2.0000e-04\n",
      "Epoch 21/200\n",
      "113/113 [==============================] - 0s 2ms/step - loss: 0.0679 - val_loss: 0.0720 - lr: 2.0000e-04\n",
      "Epoch 22/200\n",
      "113/113 [==============================] - 0s 2ms/step - loss: 0.0650 - val_loss: 0.0681 - lr: 2.0000e-04\n",
      "Epoch 23/200\n",
      "113/113 [==============================] - 0s 2ms/step - loss: 0.0617 - val_loss: 0.0671 - lr: 2.0000e-04\n",
      "Epoch 24/200\n",
      "113/113 [==============================] - 0s 2ms/step - loss: 0.0605 - val_loss: 0.0694 - lr: 2.0000e-04\n",
      "Epoch 25/200\n",
      "113/113 [==============================] - 0s 2ms/step - loss: 0.0588 - val_loss: 0.0621 - lr: 2.0000e-04\n",
      "Epoch 26/200\n",
      "113/113 [==============================] - 0s 2ms/step - loss: 0.0566 - val_loss: 0.0643 - lr: 2.0000e-04\n",
      "Epoch 27/200\n",
      "113/113 [==============================] - 0s 2ms/step - loss: 0.0553 - val_loss: 0.0610 - lr: 2.0000e-04\n",
      "Epoch 28/200\n",
      "113/113 [==============================] - 0s 2ms/step - loss: 0.0532 - val_loss: 0.0592 - lr: 2.0000e-04\n",
      "Epoch 29/200\n",
      "113/113 [==============================] - 0s 2ms/step - loss: 0.0500 - val_loss: 0.0582 - lr: 2.0000e-04\n",
      "Epoch 30/200\n",
      "113/113 [==============================] - 0s 2ms/step - loss: 0.0493 - val_loss: 0.0565 - lr: 2.0000e-04\n",
      "Epoch 31/200\n",
      "113/113 [==============================] - 0s 2ms/step - loss: 0.0476 - val_loss: 0.0549 - lr: 2.0000e-04\n",
      "Epoch 32/200\n",
      "113/113 [==============================] - 0s 2ms/step - loss: 0.0460 - val_loss: 0.0535 - lr: 2.0000e-04\n",
      "Epoch 33/200\n",
      "113/113 [==============================] - 0s 2ms/step - loss: 0.0447 - val_loss: 0.0534 - lr: 2.0000e-04\n",
      "Epoch 34/200\n",
      "113/113 [==============================] - 0s 2ms/step - loss: 0.0419 - val_loss: 0.0525 - lr: 2.0000e-04\n",
      "Epoch 35/200\n",
      "113/113 [==============================] - 0s 2ms/step - loss: 0.0422 - val_loss: 0.0525 - lr: 2.0000e-04\n",
      "Epoch 36/200\n",
      "113/113 [==============================] - 0s 2ms/step - loss: 0.0407 - val_loss: 0.0516 - lr: 2.0000e-04\n",
      "Epoch 37/200\n",
      "113/113 [==============================] - 0s 2ms/step - loss: 0.0409 - val_loss: 0.0478 - lr: 2.0000e-04\n",
      "Epoch 38/200\n",
      "113/113 [==============================] - 0s 2ms/step - loss: 0.0383 - val_loss: 0.0501 - lr: 2.0000e-04\n",
      "Epoch 39/200\n",
      "113/113 [==============================] - 0s 2ms/step - loss: 0.0371 - val_loss: 0.0477 - lr: 2.0000e-04\n",
      "Epoch 40/200\n",
      "113/113 [==============================] - 0s 2ms/step - loss: 0.0366 - val_loss: 0.0478 - lr: 2.0000e-04\n",
      "Epoch 41/200\n",
      "113/113 [==============================] - 0s 2ms/step - loss: 0.0356 - val_loss: 0.0466 - lr: 2.0000e-04\n",
      "Epoch 42/200\n",
      "113/113 [==============================] - 0s 2ms/step - loss: 0.0333 - val_loss: 0.0451 - lr: 2.0000e-04\n",
      "Epoch 43/200\n",
      "113/113 [==============================] - 0s 2ms/step - loss: 0.0341 - val_loss: 0.0438 - lr: 2.0000e-04\n",
      "Epoch 44/200\n",
      "113/113 [==============================] - 0s 2ms/step - loss: 0.0323 - val_loss: 0.0457 - lr: 2.0000e-04\n",
      "Epoch 45/200\n",
      "113/113 [==============================] - 0s 2ms/step - loss: 0.0381 - val_loss: 0.0444 - lr: 2.0000e-04\n",
      "Epoch 46/200\n",
      "113/113 [==============================] - 0s 2ms/step - loss: 0.0318 - val_loss: 0.0441 - lr: 2.0000e-04\n",
      "Epoch 47/200\n",
      "113/113 [==============================] - 0s 2ms/step - loss: 0.0311 - val_loss: 0.0434 - lr: 2.0000e-04\n",
      "Epoch 48/200\n",
      "113/113 [==============================] - 0s 2ms/step - loss: 0.0300 - val_loss: 0.0424 - lr: 2.0000e-04\n",
      "Epoch 49/200\n",
      "113/113 [==============================] - 0s 2ms/step - loss: 0.0299 - val_loss: 0.0416 - lr: 2.0000e-04\n",
      "Epoch 50/200\n",
      "113/113 [==============================] - 0s 2ms/step - loss: 0.0296 - val_loss: 0.0426 - lr: 2.0000e-04\n",
      "Epoch 51/200\n",
      "113/113 [==============================] - 0s 2ms/step - loss: 0.0293 - val_loss: 0.0423 - lr: 2.0000e-04\n",
      "Epoch 52/200\n",
      "113/113 [==============================] - 0s 2ms/step - loss: 0.0283 - val_loss: 0.0417 - lr: 2.0000e-04\n",
      "Epoch 53/200\n",
      "113/113 [==============================] - 0s 2ms/step - loss: 0.0275 - val_loss: 0.0398 - lr: 2.0000e-04\n",
      "Epoch 54/200\n",
      "113/113 [==============================] - 0s 2ms/step - loss: 0.0256 - val_loss: 0.0399 - lr: 2.0000e-04\n",
      "Epoch 55/200\n",
      "113/113 [==============================] - 0s 2ms/step - loss: 0.0250 - val_loss: 0.0395 - lr: 2.0000e-04\n",
      "Epoch 56/200\n",
      "113/113 [==============================] - 0s 2ms/step - loss: 0.0349 - val_loss: 0.0458 - lr: 2.0000e-04\n",
      "Epoch 57/200\n",
      "113/113 [==============================] - 0s 2ms/step - loss: 0.0300 - val_loss: 0.0410 - lr: 2.0000e-04\n",
      "Epoch 58/200\n",
      "113/113 [==============================] - 0s 2ms/step - loss: 0.0293 - val_loss: 0.0432 - lr: 2.0000e-04\n",
      "Epoch 59/200\n",
      "113/113 [==============================] - 0s 2ms/step - loss: 0.0328 - val_loss: 0.0419 - lr: 2.0000e-04\n",
      "Epoch 60/200\n",
      "113/113 [==============================] - 0s 2ms/step - loss: 0.0253 - val_loss: 0.0424 - lr: 2.0000e-04\n",
      "Epoch 61/200\n",
      "113/113 [==============================] - 0s 2ms/step - loss: 0.0232 - val_loss: 0.0405 - lr: 2.0000e-05\n",
      "Epoch 62/200\n",
      "113/113 [==============================] - 0s 2ms/step - loss: 0.0223 - val_loss: 0.0397 - lr: 2.0000e-05\n",
      "Epoch 63/200\n",
      "113/113 [==============================] - 0s 2ms/step - loss: 0.0219 - val_loss: 0.0394 - lr: 2.0000e-05\n",
      "Epoch 63: early stopping\n"
     ]
    }
   ],
   "source": [
    "history = model.fit(\n",
    "    xtrain,\n",
    "    ytrain,\n",
    "    epochs=200,\n",
    "    callbacks = [tf.keras.callbacks.EarlyStopping(monitor='val_loss',verbose=2, min_delta=0.001, patience=10),\n",
    "                 tf.keras.callbacks.ReduceLROnPlateau(monitor='val_loss', patience=5)],\n",
    "    validation_data=(xtest, ytest)\n",
    ")"
   ]
  },
  {
   "cell_type": "code",
   "execution_count": 20,
   "id": "45d8606f-8a51-47cb-8a07-e922c9a313d3",
   "metadata": {
    "tags": []
   },
   "outputs": [
    {
     "data": {
      "image/png": "[encoded data removed]",
      "text/plain": [
       "<Figure size 1200x400 with 1 Axes>"
      ]
     },
     "metadata": {},
     "output_type": "display_data"
    }
   ],
   "source": [
    "import matplotlib.pyplot as plt\n",
    "fig, ax = plt.subplots(figsize=(12,4))\n",
    "ax.plot(range(len(history.history['loss'])), history.history['loss'], label='train loss')\n",
    "ax.plot(range(len(history.history['val_loss'])), history.history['val_loss'], label='train loss')\n",
    "ax.legend()\n",
    "plt.ylabel(\"loss\")\n",
    "plt.title('Loss at Training')\n",
    "plt.show()"
   ]
  }
 ],
 "metadata": {
  "kernelspec": {
   "display_name": "Python 3 (ipykernel)",
   "language": "python",
   "name": "python3"
  },
  "language_info": {
   "codemirror_mode": {
    "name": "ipython",
    "version": 3
   },
   "file_extension": ".py",
   "mimetype": "text/x-python",
   "name": "python",
   "nbconvert_exporter": "python",
   "pygments_lexer": "ipython3",
   "version": "3.11.2"
  }
 },
 "nbformat": 4,
 "nbformat_minor": 5
}
